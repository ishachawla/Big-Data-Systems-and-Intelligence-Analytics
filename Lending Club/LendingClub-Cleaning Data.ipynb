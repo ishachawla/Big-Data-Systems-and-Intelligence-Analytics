{
 "cells": [
  {
   "cell_type": "markdown",
   "metadata": {},
   "source": [
    "# Lending Club Research Project - EDA and Problem Statement"
   ]
  },
  {
   "cell_type": "markdown",
   "metadata": {},
   "source": [
    "- [Introduction](#Introduction)\n",
    "- [Data Cleaning and EDA](#Data_Cleaning)\n",
    "   - [Patterns in Variables/ Variables Trend Detection](#Trend_Analysis)\n",
    "- [Outliers and Observing some common Trends](#Outlier)\n",
    "- [Problem Statement](#Problem Statement)"
   ]
  },
  {
   "cell_type": "code",
   "execution_count": 328,
   "metadata": {
    "collapsed": true
   },
   "outputs": [],
   "source": [
    "import pandas as pd\n",
    "import numpy as np\n",
    "import matplotlib.pyplot as plt\n",
    "import seaborn as sb"
   ]
  },
  {
   "cell_type": "code",
   "execution_count": 329,
   "metadata": {
    "collapsed": true
   },
   "outputs": [],
   "source": [
    "%matplotlib inline"
   ]
  },
  {
   "cell_type": "markdown",
   "metadata": {},
   "source": [
    "# Introduction\n",
    "\n",
    "##### Lending Club is a platform that connects lenders with investors. They were founded in 2007 in San Francisco. Since, then they have been helping out people with finding suitable borrowers for their needs. They use complex algorithms and a thorough reserach of people's background before determining to connect them with potential investors."
   ]
  },
  {
   "cell_type": "code",
   "execution_count": 330,
   "metadata": {},
   "outputs": [
    {
     "name": "stderr",
     "output_type": "stream",
     "text": [
      "C:\\Users\\Isha\\Anaconda3\\lib\\site-packages\\IPython\\core\\interactiveshell.py:2698: DtypeWarning: Columns (123,124,125,128,129,130,133,139,140,141) have mixed types. Specify dtype option on import or set low_memory=False.\n",
      "  interactivity=interactivity, compiler=compiler, result=result)\n",
      "C:\\Users\\Isha\\Anaconda3\\lib\\site-packages\\IPython\\core\\interactiveshell.py:2698: DtypeWarning: Columns (139,140,141) have mixed types. Specify dtype option on import or set low_memory=False.\n",
      "  interactivity=interactivity, compiler=compiler, result=result)\n",
      "C:\\Users\\Isha\\Anaconda3\\lib\\site-packages\\IPython\\core\\interactiveshell.py:2698: DtypeWarning: Columns (112) have mixed types. Specify dtype option on import or set low_memory=False.\n",
      "  interactivity=interactivity, compiler=compiler, result=result)\n"
     ]
    }
   ],
   "source": [
    "loan_Q4=pd.read_csv(\"E:\\\\Research Project\\\\LoanStats_2017Q4\\\\LoanStats_2017Q4.csv\")\n",
    "loan_Q3=pd.read_csv(\"E:\\\\Research Project\\\\LoanStats_2017Q4\\\\LoanStats_2017Q3.csv\")\n",
    "loan_Q2=pd.read_csv(\"E:\\\\Research Project\\\\LoanStats_2017Q4\\\\LoanStats_2017Q2.csv\")\n",
    "loan_Q1=pd.read_csv(\"E:\\\\Research Project\\\\LoanStats_2017Q4\\\\LoanStats_2017Q1.csv\")"
   ]
  },
  {
   "cell_type": "code",
   "execution_count": 331,
   "metadata": {
    "collapsed": true
   },
   "outputs": [],
   "source": [
    "loan_Q4['quarter']='Q4'\n",
    "loan_Q3['quarter']='Q3'\n",
    "loan_Q2['quarter']='Q2'\n",
    "loan_Q1['quarter']='Q1'"
   ]
  },
  {
   "cell_type": "code",
   "execution_count": 332,
   "metadata": {},
   "outputs": [],
   "source": [
    "loan=pd.concat([loan_Q4,loan_Q3,loan_Q2,loan_Q1],axis=0).reset_index()"
   ]
  },
  {
   "cell_type": "code",
   "execution_count": 333,
   "metadata": {},
   "outputs": [
    {
     "data": {
      "text/plain": [
       "443579"
      ]
     },
     "execution_count": 333,
     "metadata": {},
     "output_type": "execute_result"
    }
   ],
   "source": [
    "len(loan)"
   ]
  },
  {
   "cell_type": "markdown",
   "metadata": {},
   "source": [
    "# Data_Cleaning"
   ]
  },
  {
   "cell_type": "code",
   "execution_count": 342,
   "metadata": {},
   "outputs": [
    {
     "name": "stdout",
     "output_type": "stream",
     "text": [
      "Total Rows in the dataset: 443579\n",
      "Total columns in the dataset: 147\n"
     ]
    }
   ],
   "source": [
    "print(\"Total Rows in the dataset:\" ,loan.shape[0])\n",
    "print(\"Total columns in the dataset:\",loan.shape[1])"
   ]
  },
  {
   "cell_type": "markdown",
   "metadata": {},
   "source": [
    "This dataset has 147 columns, some of which don't convey a lot of information, we will look at these as we move forward\n",
    "> First Step: Identifying, the columns with null values"
   ]
  },
  {
   "cell_type": "code",
   "execution_count": 343,
   "metadata": {
    "collapsed": true
   },
   "outputs": [],
   "source": [
    "null_values=pd.DataFrame(loan.isnull().sum()).reset_index()\n",
    "null_values.rename(columns={'index': 'RowNames', 0: 'Blank RowCount'},inplace=True)"
   ]
  },
  {
   "cell_type": "code",
   "execution_count": 344,
   "metadata": {
    "collapsed": true
   },
   "outputs": [],
   "source": [
    "null_values['Percent Blank Values']=(null_values['Blank RowCount']/len(loan))*100"
   ]
  },
  {
   "cell_type": "code",
   "execution_count": 323,
   "metadata": {},
   "outputs": [],
   "source": [
    "#sb.set(rc={'figure.figsize':(60,50)})\n",
    "#sb.barplot(x=null_values['RowNames'],y=null_values['Percent Blank Values'])"
   ]
  },
  {
   "cell_type": "markdown",
   "metadata": {},
   "source": [
    "###### There are 43 columns with more than 50 percent blank values, and for any of these it is hard for us to determine the missing values. So we will just remove these from our dataframe "
   ]
  },
  {
   "cell_type": "code",
   "execution_count": 348,
   "metadata": {},
   "outputs": [
    {
     "data": {
      "text/plain": [
       "RowNames                43\n",
       "Blank RowCount          43\n",
       "Percent Blank Values    43\n",
       "dtype: int64"
      ]
     },
     "execution_count": 348,
     "metadata": {},
     "output_type": "execute_result"
    }
   ],
   "source": [
    "null_values[null_values['Percent Blank Values'] >=50.00].count()"
   ]
  },
  {
   "cell_type": "code",
   "execution_count": 349,
   "metadata": {},
   "outputs": [
    {
     "data": {
      "text/html": [
       "<div>\n",
       "<style>\n",
       "    .dataframe thead tr:only-child th {\n",
       "        text-align: right;\n",
       "    }\n",
       "\n",
       "    .dataframe thead th {\n",
       "        text-align: left;\n",
       "    }\n",
       "\n",
       "    .dataframe tbody tr th {\n",
       "        vertical-align: top;\n",
       "    }\n",
       "</style>\n",
       "<table border=\"1\" class=\"dataframe\">\n",
       "  <thead>\n",
       "    <tr style=\"text-align: right;\">\n",
       "      <th></th>\n",
       "      <th>RowNames</th>\n",
       "      <th>Blank RowCount</th>\n",
       "      <th>Percent Blank Values</th>\n",
       "    </tr>\n",
       "  </thead>\n",
       "  <tbody>\n",
       "    <tr>\n",
       "      <th>1</th>\n",
       "      <td>id</td>\n",
       "      <td>443579</td>\n",
       "      <td>100.000000</td>\n",
       "    </tr>\n",
       "    <tr>\n",
       "      <th>2</th>\n",
       "      <td>member_id</td>\n",
       "      <td>443579</td>\n",
       "      <td>100.000000</td>\n",
       "    </tr>\n",
       "    <tr>\n",
       "      <th>19</th>\n",
       "      <td>url</td>\n",
       "      <td>443579</td>\n",
       "      <td>100.000000</td>\n",
       "    </tr>\n",
       "    <tr>\n",
       "      <th>20</th>\n",
       "      <td>desc</td>\n",
       "      <td>443579</td>\n",
       "      <td>100.000000</td>\n",
       "    </tr>\n",
       "    <tr>\n",
       "      <th>29</th>\n",
       "      <td>mths_since_last_delinq</td>\n",
       "      <td>222680</td>\n",
       "      <td>50.200753</td>\n",
       "    </tr>\n",
       "    <tr>\n",
       "      <th>30</th>\n",
       "      <td>mths_since_last_record</td>\n",
       "      <td>367384</td>\n",
       "      <td>82.822676</td>\n",
       "    </tr>\n",
       "    <tr>\n",
       "      <th>51</th>\n",
       "      <td>mths_since_last_major_derog</td>\n",
       "      <td>324968</td>\n",
       "      <td>73.260456</td>\n",
       "    </tr>\n",
       "    <tr>\n",
       "      <th>54</th>\n",
       "      <td>annual_inc_joint</td>\n",
       "      <td>401154</td>\n",
       "      <td>90.435751</td>\n",
       "    </tr>\n",
       "    <tr>\n",
       "      <th>55</th>\n",
       "      <td>dti_joint</td>\n",
       "      <td>401154</td>\n",
       "      <td>90.435751</td>\n",
       "    </tr>\n",
       "    <tr>\n",
       "      <th>56</th>\n",
       "      <td>verification_status_joint</td>\n",
       "      <td>401160</td>\n",
       "      <td>90.437104</td>\n",
       "    </tr>\n",
       "    <tr>\n",
       "      <th>87</th>\n",
       "      <td>mths_since_recent_bc_dlq</td>\n",
       "      <td>340753</td>\n",
       "      <td>76.819011</td>\n",
       "    </tr>\n",
       "    <tr>\n",
       "      <th>89</th>\n",
       "      <td>mths_since_recent_revol_delinq</td>\n",
       "      <td>294439</td>\n",
       "      <td>66.378030</td>\n",
       "    </tr>\n",
       "    <tr>\n",
       "      <th>112</th>\n",
       "      <td>revol_bal_joint</td>\n",
       "      <td>404544</td>\n",
       "      <td>91.199989</td>\n",
       "    </tr>\n",
       "    <tr>\n",
       "      <th>113</th>\n",
       "      <td>sec_app_earliest_cr_line</td>\n",
       "      <td>404543</td>\n",
       "      <td>91.199764</td>\n",
       "    </tr>\n",
       "    <tr>\n",
       "      <th>114</th>\n",
       "      <td>sec_app_inq_last_6mths</td>\n",
       "      <td>404543</td>\n",
       "      <td>91.199764</td>\n",
       "    </tr>\n",
       "    <tr>\n",
       "      <th>115</th>\n",
       "      <td>sec_app_mort_acc</td>\n",
       "      <td>404543</td>\n",
       "      <td>91.199764</td>\n",
       "    </tr>\n",
       "    <tr>\n",
       "      <th>116</th>\n",
       "      <td>sec_app_open_acc</td>\n",
       "      <td>404543</td>\n",
       "      <td>91.199764</td>\n",
       "    </tr>\n",
       "    <tr>\n",
       "      <th>117</th>\n",
       "      <td>sec_app_revol_util</td>\n",
       "      <td>405183</td>\n",
       "      <td>91.344045</td>\n",
       "    </tr>\n",
       "    <tr>\n",
       "      <th>118</th>\n",
       "      <td>sec_app_open_act_il</td>\n",
       "      <td>404543</td>\n",
       "      <td>91.199764</td>\n",
       "    </tr>\n",
       "    <tr>\n",
       "      <th>119</th>\n",
       "      <td>sec_app_num_rev_accts</td>\n",
       "      <td>404543</td>\n",
       "      <td>91.199764</td>\n",
       "    </tr>\n",
       "    <tr>\n",
       "      <th>120</th>\n",
       "      <td>sec_app_chargeoff_within_12_mths</td>\n",
       "      <td>404543</td>\n",
       "      <td>91.199764</td>\n",
       "    </tr>\n",
       "    <tr>\n",
       "      <th>121</th>\n",
       "      <td>sec_app_collections_12_mths_ex_med</td>\n",
       "      <td>404543</td>\n",
       "      <td>91.199764</td>\n",
       "    </tr>\n",
       "    <tr>\n",
       "      <th>122</th>\n",
       "      <td>sec_app_mths_since_last_major_derog</td>\n",
       "      <td>430014</td>\n",
       "      <td>96.941920</td>\n",
       "    </tr>\n",
       "    <tr>\n",
       "      <th>124</th>\n",
       "      <td>hardship_type</td>\n",
       "      <td>442773</td>\n",
       "      <td>99.818296</td>\n",
       "    </tr>\n",
       "    <tr>\n",
       "      <th>125</th>\n",
       "      <td>hardship_reason</td>\n",
       "      <td>442773</td>\n",
       "      <td>99.818296</td>\n",
       "    </tr>\n",
       "    <tr>\n",
       "      <th>126</th>\n",
       "      <td>hardship_status</td>\n",
       "      <td>442773</td>\n",
       "      <td>99.818296</td>\n",
       "    </tr>\n",
       "    <tr>\n",
       "      <th>127</th>\n",
       "      <td>deferral_term</td>\n",
       "      <td>442773</td>\n",
       "      <td>99.818296</td>\n",
       "    </tr>\n",
       "    <tr>\n",
       "      <th>128</th>\n",
       "      <td>hardship_amount</td>\n",
       "      <td>442773</td>\n",
       "      <td>99.818296</td>\n",
       "    </tr>\n",
       "    <tr>\n",
       "      <th>129</th>\n",
       "      <td>hardship_start_date</td>\n",
       "      <td>442773</td>\n",
       "      <td>99.818296</td>\n",
       "    </tr>\n",
       "    <tr>\n",
       "      <th>130</th>\n",
       "      <td>hardship_end_date</td>\n",
       "      <td>442773</td>\n",
       "      <td>99.818296</td>\n",
       "    </tr>\n",
       "    <tr>\n",
       "      <th>131</th>\n",
       "      <td>payment_plan_start_date</td>\n",
       "      <td>442773</td>\n",
       "      <td>99.818296</td>\n",
       "    </tr>\n",
       "    <tr>\n",
       "      <th>132</th>\n",
       "      <td>hardship_length</td>\n",
       "      <td>442773</td>\n",
       "      <td>99.818296</td>\n",
       "    </tr>\n",
       "    <tr>\n",
       "      <th>133</th>\n",
       "      <td>hardship_dpd</td>\n",
       "      <td>442773</td>\n",
       "      <td>99.818296</td>\n",
       "    </tr>\n",
       "    <tr>\n",
       "      <th>134</th>\n",
       "      <td>hardship_loan_status</td>\n",
       "      <td>442773</td>\n",
       "      <td>99.818296</td>\n",
       "    </tr>\n",
       "    <tr>\n",
       "      <th>135</th>\n",
       "      <td>orig_projected_additional_accrued_interest</td>\n",
       "      <td>442857</td>\n",
       "      <td>99.837233</td>\n",
       "    </tr>\n",
       "    <tr>\n",
       "      <th>136</th>\n",
       "      <td>hardship_payoff_balance_amount</td>\n",
       "      <td>442773</td>\n",
       "      <td>99.818296</td>\n",
       "    </tr>\n",
       "    <tr>\n",
       "      <th>137</th>\n",
       "      <td>hardship_last_payment_amount</td>\n",
       "      <td>442773</td>\n",
       "      <td>99.818296</td>\n",
       "    </tr>\n",
       "    <tr>\n",
       "      <th>140</th>\n",
       "      <td>debt_settlement_flag_date</td>\n",
       "      <td>443292</td>\n",
       "      <td>99.935299</td>\n",
       "    </tr>\n",
       "    <tr>\n",
       "      <th>141</th>\n",
       "      <td>settlement_status</td>\n",
       "      <td>443292</td>\n",
       "      <td>99.935299</td>\n",
       "    </tr>\n",
       "    <tr>\n",
       "      <th>142</th>\n",
       "      <td>settlement_date</td>\n",
       "      <td>443292</td>\n",
       "      <td>99.935299</td>\n",
       "    </tr>\n",
       "    <tr>\n",
       "      <th>143</th>\n",
       "      <td>settlement_amount</td>\n",
       "      <td>443292</td>\n",
       "      <td>99.935299</td>\n",
       "    </tr>\n",
       "    <tr>\n",
       "      <th>144</th>\n",
       "      <td>settlement_percentage</td>\n",
       "      <td>443292</td>\n",
       "      <td>99.935299</td>\n",
       "    </tr>\n",
       "    <tr>\n",
       "      <th>145</th>\n",
       "      <td>settlement_term</td>\n",
       "      <td>443292</td>\n",
       "      <td>99.935299</td>\n",
       "    </tr>\n",
       "  </tbody>\n",
       "</table>\n",
       "</div>"
      ],
      "text/plain": [
       "                                       RowNames  Blank RowCount  \\\n",
       "1                                            id          443579   \n",
       "2                                     member_id          443579   \n",
       "19                                          url          443579   \n",
       "20                                         desc          443579   \n",
       "29                       mths_since_last_delinq          222680   \n",
       "30                       mths_since_last_record          367384   \n",
       "51                  mths_since_last_major_derog          324968   \n",
       "54                             annual_inc_joint          401154   \n",
       "55                                    dti_joint          401154   \n",
       "56                    verification_status_joint          401160   \n",
       "87                     mths_since_recent_bc_dlq          340753   \n",
       "89               mths_since_recent_revol_delinq          294439   \n",
       "112                             revol_bal_joint          404544   \n",
       "113                    sec_app_earliest_cr_line          404543   \n",
       "114                      sec_app_inq_last_6mths          404543   \n",
       "115                            sec_app_mort_acc          404543   \n",
       "116                            sec_app_open_acc          404543   \n",
       "117                          sec_app_revol_util          405183   \n",
       "118                         sec_app_open_act_il          404543   \n",
       "119                       sec_app_num_rev_accts          404543   \n",
       "120            sec_app_chargeoff_within_12_mths          404543   \n",
       "121          sec_app_collections_12_mths_ex_med          404543   \n",
       "122         sec_app_mths_since_last_major_derog          430014   \n",
       "124                               hardship_type          442773   \n",
       "125                             hardship_reason          442773   \n",
       "126                             hardship_status          442773   \n",
       "127                               deferral_term          442773   \n",
       "128                             hardship_amount          442773   \n",
       "129                         hardship_start_date          442773   \n",
       "130                           hardship_end_date          442773   \n",
       "131                     payment_plan_start_date          442773   \n",
       "132                             hardship_length          442773   \n",
       "133                                hardship_dpd          442773   \n",
       "134                        hardship_loan_status          442773   \n",
       "135  orig_projected_additional_accrued_interest          442857   \n",
       "136              hardship_payoff_balance_amount          442773   \n",
       "137                hardship_last_payment_amount          442773   \n",
       "140                   debt_settlement_flag_date          443292   \n",
       "141                           settlement_status          443292   \n",
       "142                             settlement_date          443292   \n",
       "143                           settlement_amount          443292   \n",
       "144                       settlement_percentage          443292   \n",
       "145                             settlement_term          443292   \n",
       "\n",
       "     Percent Blank Values  \n",
       "1              100.000000  \n",
       "2              100.000000  \n",
       "19             100.000000  \n",
       "20             100.000000  \n",
       "29              50.200753  \n",
       "30              82.822676  \n",
       "51              73.260456  \n",
       "54              90.435751  \n",
       "55              90.435751  \n",
       "56              90.437104  \n",
       "87              76.819011  \n",
       "89              66.378030  \n",
       "112             91.199989  \n",
       "113             91.199764  \n",
       "114             91.199764  \n",
       "115             91.199764  \n",
       "116             91.199764  \n",
       "117             91.344045  \n",
       "118             91.199764  \n",
       "119             91.199764  \n",
       "120             91.199764  \n",
       "121             91.199764  \n",
       "122             96.941920  \n",
       "124             99.818296  \n",
       "125             99.818296  \n",
       "126             99.818296  \n",
       "127             99.818296  \n",
       "128             99.818296  \n",
       "129             99.818296  \n",
       "130             99.818296  \n",
       "131             99.818296  \n",
       "132             99.818296  \n",
       "133             99.818296  \n",
       "134             99.818296  \n",
       "135             99.837233  \n",
       "136             99.818296  \n",
       "137             99.818296  \n",
       "140             99.935299  \n",
       "141             99.935299  \n",
       "142             99.935299  \n",
       "143             99.935299  \n",
       "144             99.935299  \n",
       "145             99.935299  "
      ]
     },
     "execution_count": 349,
     "metadata": {},
     "output_type": "execute_result"
    }
   ],
   "source": [
    "null_values[null_values['Percent Blank Values'] >=50.00]"
   ]
  },
  {
   "cell_type": "code",
   "execution_count": 350,
   "metadata": {
    "collapsed": true
   },
   "outputs": [],
   "source": [
    "columns_removed=null_values[null_values['Percent Blank Values']>=50.00]"
   ]
  },
  {
   "cell_type": "code",
   "execution_count": 351,
   "metadata": {
    "collapsed": true
   },
   "outputs": [],
   "source": [
    "RemovedData=loan[columns_removed['RowNames']]"
   ]
  },
  {
   "cell_type": "code",
   "execution_count": 352,
   "metadata": {
    "collapsed": true
   },
   "outputs": [],
   "source": [
    "col=columns_removed['RowNames']\n",
    "columns_notremoved=null_values[null_values['Percent Blank Values']<50.00]"
   ]
  },
  {
   "cell_type": "markdown",
   "metadata": {},
   "source": [
    "##### New dataset after removing the columns with null values over 50 percent"
   ]
  },
  {
   "cell_type": "code",
   "execution_count": 353,
   "metadata": {
    "collapsed": true
   },
   "outputs": [],
   "source": [
    "df1=loan[columns_notremoved['RowNames']].reset_index()"
   ]
  },
  {
   "cell_type": "code",
   "execution_count": 426,
   "metadata": {},
   "outputs": [
    {
     "data": {
      "text/html": [
       "<div>\n",
       "<style>\n",
       "    .dataframe thead tr:only-child th {\n",
       "        text-align: right;\n",
       "    }\n",
       "\n",
       "    .dataframe thead th {\n",
       "        text-align: left;\n",
       "    }\n",
       "\n",
       "    .dataframe tbody tr th {\n",
       "        vertical-align: top;\n",
       "    }\n",
       "</style>\n",
       "<table border=\"1\" class=\"dataframe\">\n",
       "  <thead>\n",
       "    <tr style=\"text-align: right;\">\n",
       "      <th></th>\n",
       "      <th>RowNames</th>\n",
       "      <th>Blank RowCount</th>\n",
       "      <th>Percent Blank Values</th>\n",
       "    </tr>\n",
       "  </thead>\n",
       "  <tbody>\n",
       "    <tr>\n",
       "      <th>11</th>\n",
       "      <td>emp_title</td>\n",
       "      <td>32344</td>\n",
       "      <td>7.291599</td>\n",
       "    </tr>\n",
       "    <tr>\n",
       "      <th>23</th>\n",
       "      <td>zip_code</td>\n",
       "      <td>1</td>\n",
       "      <td>0.000225</td>\n",
       "    </tr>\n",
       "    <tr>\n",
       "      <th>25</th>\n",
       "      <td>dti</td>\n",
       "      <td>514</td>\n",
       "      <td>0.115876</td>\n",
       "    </tr>\n",
       "    <tr>\n",
       "      <th>34</th>\n",
       "      <td>revol_util</td>\n",
       "      <td>444</td>\n",
       "      <td>0.100095</td>\n",
       "    </tr>\n",
       "    <tr>\n",
       "      <th>46</th>\n",
       "      <td>last_pymnt_d</td>\n",
       "      <td>619</td>\n",
       "      <td>0.139547</td>\n",
       "    </tr>\n",
       "    <tr>\n",
       "      <th>48</th>\n",
       "      <td>next_pymnt_d</td>\n",
       "      <td>44040</td>\n",
       "      <td>9.928333</td>\n",
       "    </tr>\n",
       "    <tr>\n",
       "      <th>49</th>\n",
       "      <td>last_credit_pull_d</td>\n",
       "      <td>11</td>\n",
       "      <td>0.002480</td>\n",
       "    </tr>\n",
       "    <tr>\n",
       "      <th>64</th>\n",
       "      <td>mths_since_rcnt_il</td>\n",
       "      <td>13126</td>\n",
       "      <td>2.959112</td>\n",
       "    </tr>\n",
       "    <tr>\n",
       "      <th>66</th>\n",
       "      <td>il_util</td>\n",
       "      <td>61794</td>\n",
       "      <td>13.930777</td>\n",
       "    </tr>\n",
       "    <tr>\n",
       "      <th>70</th>\n",
       "      <td>all_util</td>\n",
       "      <td>67</td>\n",
       "      <td>0.015104</td>\n",
       "    </tr>\n",
       "    <tr>\n",
       "      <th>76</th>\n",
       "      <td>avg_cur_bal</td>\n",
       "      <td>18</td>\n",
       "      <td>0.004058</td>\n",
       "    </tr>\n",
       "    <tr>\n",
       "      <th>77</th>\n",
       "      <td>bc_open_to_buy</td>\n",
       "      <td>5744</td>\n",
       "      <td>1.294922</td>\n",
       "    </tr>\n",
       "    <tr>\n",
       "      <th>78</th>\n",
       "      <td>bc_util</td>\n",
       "      <td>5948</td>\n",
       "      <td>1.340911</td>\n",
       "    </tr>\n",
       "    <tr>\n",
       "      <th>81</th>\n",
       "      <td>mo_sin_old_il_acct</td>\n",
       "      <td>13126</td>\n",
       "      <td>2.959112</td>\n",
       "    </tr>\n",
       "    <tr>\n",
       "      <th>86</th>\n",
       "      <td>mths_since_recent_bc</td>\n",
       "      <td>5433</td>\n",
       "      <td>1.224810</td>\n",
       "    </tr>\n",
       "    <tr>\n",
       "      <th>88</th>\n",
       "      <td>mths_since_recent_inq</td>\n",
       "      <td>51953</td>\n",
       "      <td>11.712232</td>\n",
       "    </tr>\n",
       "    <tr>\n",
       "      <th>100</th>\n",
       "      <td>num_tl_120dpd_2m</td>\n",
       "      <td>22254</td>\n",
       "      <td>5.016919</td>\n",
       "    </tr>\n",
       "    <tr>\n",
       "      <th>105</th>\n",
       "      <td>percent_bc_gt_75</td>\n",
       "      <td>5759</td>\n",
       "      <td>1.298303</td>\n",
       "    </tr>\n",
       "  </tbody>\n",
       "</table>\n",
       "</div>"
      ],
      "text/plain": [
       "                  RowNames  Blank RowCount  Percent Blank Values\n",
       "11               emp_title           32344              7.291599\n",
       "23                zip_code               1              0.000225\n",
       "25                     dti             514              0.115876\n",
       "34              revol_util             444              0.100095\n",
       "46            last_pymnt_d             619              0.139547\n",
       "48            next_pymnt_d           44040              9.928333\n",
       "49      last_credit_pull_d              11              0.002480\n",
       "64      mths_since_rcnt_il           13126              2.959112\n",
       "66                 il_util           61794             13.930777\n",
       "70                all_util              67              0.015104\n",
       "76             avg_cur_bal              18              0.004058\n",
       "77          bc_open_to_buy            5744              1.294922\n",
       "78                 bc_util            5948              1.340911\n",
       "81      mo_sin_old_il_acct           13126              2.959112\n",
       "86    mths_since_recent_bc            5433              1.224810\n",
       "88   mths_since_recent_inq           51953             11.712232\n",
       "100       num_tl_120dpd_2m           22254              5.016919\n",
       "105       percent_bc_gt_75            5759              1.298303"
      ]
     },
     "execution_count": 426,
     "metadata": {},
     "output_type": "execute_result"
    }
   ],
   "source": [
    "null_values[(null_values['Percent Blank Values']>0.00) & (null_values['Percent Blank Values']<50.00)]"
   ]
  },
  {
   "cell_type": "markdown",
   "metadata": {},
   "source": [
    "#### Using k nearest neighbor to find the values for some important columns   "
   ]
  },
  {
   "cell_type": "markdown",
   "metadata": {},
   "source": [
    "### Debt to Income Ratio"
   ]
  },
  {
   "cell_type": "code",
   "execution_count": 432,
   "metadata": {},
   "outputs": [],
   "source": [
    "blank_dti=df1[df1['dti'].isnull()]"
   ]
  },
  {
   "cell_type": "code",
   "execution_count": 443,
   "metadata": {},
   "outputs": [],
   "source": [
    "notblank_dti=df1[pd.notnull(df1['dti'])]"
   ]
  },
  {
   "cell_type": "code",
   "execution_count": 445,
   "metadata": {},
   "outputs": [
    {
     "data": {
      "text/plain": [
       "443579"
      ]
     },
     "execution_count": 445,
     "metadata": {},
     "output_type": "execute_result"
    }
   ],
   "source": [
    "len(notblank_dti['dti'])+len(blank_dti)"
   ]
  },
  {
   "cell_type": "code",
   "execution_count": 446,
   "metadata": {},
   "outputs": [
    {
     "data": {
      "text/plain": [
       "443579"
      ]
     },
     "execution_count": 446,
     "metadata": {},
     "output_type": "execute_result"
    }
   ],
   "source": [
    "len(df1)"
   ]
  },
  {
   "cell_type": "code",
   "execution_count": 447,
   "metadata": {},
   "outputs": [
    {
     "name": "stderr",
     "output_type": "stream",
     "text": [
      "C:\\Users\\Isha\\Anaconda3\\lib\\site-packages\\sklearn\\cross_validation.py:41: DeprecationWarning: This module was deprecated in version 0.18 in favor of the model_selection module into which all the refactored classes and functions are moved. Also note that the interface of the new CV iterators are different from that of this module. This module will be removed in 0.20.\n",
      "  \"This module will be removed in 0.20.\", DeprecationWarning)\n"
     ]
    }
   ],
   "source": [
    "from sklearn.cross_validation import train_test_split"
   ]
  },
  {
   "cell_type": "code",
   "execution_count": 466,
   "metadata": {},
   "outputs": [],
   "source": [
    "x=notblank_dti[['int_rate','revol_bal','annual_inc']]\n",
    "y=notblank_dti['dti']"
   ]
  },
  {
   "cell_type": "code",
   "execution_count": 533,
   "metadata": {},
   "outputs": [],
   "source": [
    "p,q=x.shape\n",
    "n=y.shape\n"
   ]
  },
  {
   "cell_type": "code",
   "execution_count": 467,
   "metadata": {
    "collapsed": true
   },
   "outputs": [],
   "source": [
    "x_train,x_test,y_train,y_test=train_test_split(x,y,train_size=0.80,random_state=1)"
   ]
  },
  {
   "cell_type": "code",
   "execution_count": 482,
   "metadata": {
    "collapsed": true
   },
   "outputs": [],
   "source": [
    "from sklearn import linear_model as lm\n",
    "from sklearn.linear_model import LinearRegression"
   ]
  },
  {
   "cell_type": "code",
   "execution_count": 480,
   "metadata": {},
   "outputs": [
    {
     "data": {
      "text/plain": [
       "<matplotlib.axes._subplots.AxesSubplot at 0x1e656c86390>"
      ]
     },
     "execution_count": 480,
     "metadata": {},
     "output_type": "execute_result"
    },
    {
     "data": {
      "image/png": "[encoded data removed]",
      "text/plain": [
       "<matplotlib.figure.Figure at 0x1e656c74dd8>"
      ]
     },
     "metadata": {},
     "output_type": "display_data"
    }
   ],
   "source": [
    "sb.heatmap(x.corr(),annot=True)"
   ]
  },
  {
   "cell_type": "code",
   "execution_count": 516,
   "metadata": {},
   "outputs": [],
   "source": [
    "import statsmodels.api as sm"
   ]
  },
  {
   "cell_type": "code",
   "execution_count": 535,
   "metadata": {},
   "outputs": [
    {
     "data": {
      "text/html": [
       "<table class=\"simpletable\">\n",
       "<caption>OLS Regression Results</caption>\n",
       "<tr>\n",
       "  <th>Dep. Variable:</th>           <td>dti</td>       <th>  R-squared:         </th>  <td>   0.523</td>  \n",
       "</tr>\n",
       "<tr>\n",
       "  <th>Model:</th>                   <td>OLS</td>       <th>  Adj. R-squared:    </th>  <td>   0.523</td>  \n",
       "</tr>\n",
       "<tr>\n",
       "  <th>Method:</th>             <td>Least Squares</td>  <th>  F-statistic:       </th>  <td>1.297e+05</td> \n",
       "</tr>\n",
       "<tr>\n",
       "  <th>Date:</th>             <td>Mon, 12 Mar 2018</td> <th>  Prob (F-statistic):</th>   <td>  0.00</td>   \n",
       "</tr>\n",
       "<tr>\n",
       "  <th>Time:</th>                 <td>05:31:58</td>     <th>  Log-Likelihood:    </th> <td>-1.5262e+06</td>\n",
       "</tr>\n",
       "<tr>\n",
       "  <th>No. Observations:</th>      <td>354452</td>      <th>  AIC:               </th>  <td>3.052e+06</td> \n",
       "</tr>\n",
       "<tr>\n",
       "  <th>Df Residuals:</th>          <td>354449</td>      <th>  BIC:               </th>  <td>3.052e+06</td> \n",
       "</tr>\n",
       "<tr>\n",
       "  <th>Df Model:</th>              <td>     3</td>      <th>                     </th>      <td> </td>     \n",
       "</tr>\n",
       "<tr>\n",
       "  <th>Covariance Type:</th>      <td>nonrobust</td>    <th>                     </th>      <td> </td>     \n",
       "</tr>\n",
       "</table>\n",
       "<table class=\"simpletable\">\n",
       "<tr>\n",
       "       <td></td>         <th>coef</th>     <th>std err</th>      <th>t</th>      <th>P>|t|</th>  <th>[0.025</th>    <th>0.975]</th>  \n",
       "</tr>\n",
       "<tr>\n",
       "  <th>int_rate</th>   <td>    1.1837</td> <td>    0.003</td> <td>  464.237</td> <td> 0.000</td> <td>    1.179</td> <td>    1.189</td>\n",
       "</tr>\n",
       "<tr>\n",
       "  <th>revol_bal</th>  <td>    0.0001</td> <td> 1.27e-06</td> <td>   94.852</td> <td> 0.000</td> <td>    0.000</td> <td>    0.000</td>\n",
       "</tr>\n",
       "<tr>\n",
       "  <th>annual_inc</th> <td>-1.122e-06</td> <td> 1.33e-07</td> <td>   -8.446</td> <td> 0.000</td> <td>-1.38e-06</td> <td>-8.62e-07</td>\n",
       "</tr>\n",
       "</table>\n",
       "<table class=\"simpletable\">\n",
       "<tr>\n",
       "  <th>Omnibus:</th>       <td>897471.861</td> <th>  Durbin-Watson:     </th>    <td>   1.977</td>    \n",
       "</tr>\n",
       "<tr>\n",
       "  <th>Prob(Omnibus):</th>   <td> 0.000</td>   <th>  Jarque-Bera (JB):  </th> <td>28703702327.716</td>\n",
       "</tr>\n",
       "<tr>\n",
       "  <th>Skew:</th>            <td>28.102</td>   <th>  Prob(JB):          </th>    <td>    0.00</td>    \n",
       "</tr>\n",
       "<tr>\n",
       "  <th>Kurtosis:</th>       <td>1395.973</td>  <th>  Cond. No.          </th>    <td>2.03e+04</td>    \n",
       "</tr>\n",
       "</table>"
      ],
      "text/plain": [
       "<class 'statsmodels.iolib.summary.Summary'>\n",
       "\"\"\"\n",
       "                            OLS Regression Results                            \n",
       "==============================================================================\n",
       "Dep. Variable:                    dti   R-squared:                       0.523\n",
       "Model:                            OLS   Adj. R-squared:                  0.523\n",
       "Method:                 Least Squares   F-statistic:                 1.297e+05\n",
       "Date:                Mon, 12 Mar 2018   Prob (F-statistic):               0.00\n",
       "Time:                        05:31:58   Log-Likelihood:            -1.5262e+06\n",
       "No. Observations:              354452   AIC:                         3.052e+06\n",
       "Df Residuals:                  354449   BIC:                         3.052e+06\n",
       "Df Model:                           3                                         \n",
       "Covariance Type:            nonrobust                                         \n",
       "==============================================================================\n",
       "                 coef    std err          t      P>|t|      [0.025      0.975]\n",
       "------------------------------------------------------------------------------\n",
       "int_rate       1.1837      0.003    464.237      0.000       1.179       1.189\n",
       "revol_bal      0.0001   1.27e-06     94.852      0.000       0.000       0.000\n",
       "annual_inc -1.122e-06   1.33e-07     -8.446      0.000   -1.38e-06   -8.62e-07\n",
       "==============================================================================\n",
       "Omnibus:                   897471.861   Durbin-Watson:                   1.977\n",
       "Prob(Omnibus):                  0.000   Jarque-Bera (JB):      28703702327.716\n",
       "Skew:                          28.102   Prob(JB):                         0.00\n",
       "Kurtosis:                    1395.973   Cond. No.                     2.03e+04\n",
       "==============================================================================\n",
       "\n",
       "Warnings:\n",
       "[1] Standard Errors assume that the covariance matrix of the errors is correctly specified.\n",
       "[2] The condition number is large, 2.03e+04. This might indicate that there are\n",
       "strong multicollinearity or other numerical problems.\n",
       "\"\"\""
      ]
     },
     "execution_count": 535,
     "metadata": {},
     "output_type": "execute_result"
    }
   ],
   "source": [
    "model=sm.OLS(y_train,x_train)\n",
    "result=model.fit()\n",
    "result.summary()"
   ]
  },
  {
   "cell_type": "code",
   "execution_count": 538,
   "metadata": {},
   "outputs": [],
   "source": [
    "y_train_pred=result.predict(x_train)\n",
    "y_test_pred=result.predict(x_test)"
   ]
  },
  {
   "cell_type": "code",
   "execution_count": 539,
   "metadata": {},
   "outputs": [
    {
     "name": "stdout",
     "output_type": "stream",
     "text": [
      "The rsquared value for this model is 0.523301858696\n"
     ]
    }
   ],
   "source": [
    "print(\"The rsquared value for this model is\",result.rsquared)"
   ]
  },
  {
   "cell_type": "code",
   "execution_count": 541,
   "metadata": {},
   "outputs": [],
   "source": [
    "x_blank=blank_dti[['int_rate','revol_bal','annual_inc']]\n",
    "y_blank=blank_dti['dti']"
   ]
  },
  {
   "cell_type": "code",
   "execution_count": 545,
   "metadata": {},
   "outputs": [
    {
     "name": "stderr",
     "output_type": "stream",
     "text": [
      "C:\\Users\\Isha\\Anaconda3\\lib\\site-packages\\ipykernel_launcher.py:1: SettingWithCopyWarning: \n",
      "A value is trying to be set on a copy of a slice from a DataFrame.\n",
      "Try using .loc[row_indexer,col_indexer] = value instead\n",
      "\n",
      "See the caveats in the documentation: http://pandas.pydata.org/pandas-docs/stable/indexing.html#indexing-view-versus-copy\n",
      "  \"\"\"Entry point for launching an IPython kernel.\n"
     ]
    }
   ],
   "source": [
    "blank_dti['dti']=result.predict(x_blank)"
   ]
  },
  {
   "cell_type": "code",
   "execution_count": 604,
   "metadata": {},
   "outputs": [],
   "source": [
    "#blank_dti['dti']"
   ]
  },
  {
   "cell_type": "code",
   "execution_count": 554,
   "metadata": {},
   "outputs": [],
   "source": [
    "df1=pd.concat([blank_dti,notblank_dti],axis=0)"
   ]
  },
  {
   "cell_type": "code",
   "execution_count": 556,
   "metadata": {},
   "outputs": [
    {
     "data": {
      "text/html": [
       "<div>\n",
       "<style>\n",
       "    .dataframe thead tr:only-child th {\n",
       "        text-align: right;\n",
       "    }\n",
       "\n",
       "    .dataframe thead th {\n",
       "        text-align: left;\n",
       "    }\n",
       "\n",
       "    .dataframe tbody tr th {\n",
       "        vertical-align: top;\n",
       "    }\n",
       "</style>\n",
       "<table border=\"1\" class=\"dataframe\">\n",
       "  <thead>\n",
       "    <tr style=\"text-align: right;\">\n",
       "      <th></th>\n",
       "      <th>level_0</th>\n",
       "      <th>index</th>\n",
       "      <th>loan_amnt</th>\n",
       "      <th>funded_amnt</th>\n",
       "      <th>funded_amnt_inv</th>\n",
       "      <th>term</th>\n",
       "      <th>int_rate</th>\n",
       "      <th>installment</th>\n",
       "      <th>grade</th>\n",
       "      <th>sub_grade</th>\n",
       "      <th>...</th>\n",
       "      <th>pub_rec_bankruptcies</th>\n",
       "      <th>tax_liens</th>\n",
       "      <th>tot_hi_cred_lim</th>\n",
       "      <th>total_bal_ex_mort</th>\n",
       "      <th>total_bc_limit</th>\n",
       "      <th>total_il_high_credit_limit</th>\n",
       "      <th>hardship_flag</th>\n",
       "      <th>disbursement_method</th>\n",
       "      <th>debt_settlement_flag</th>\n",
       "      <th>quarter</th>\n",
       "    </tr>\n",
       "  </thead>\n",
       "  <tbody>\n",
       "  </tbody>\n",
       "</table>\n",
       "<p>0 rows × 105 columns</p>\n",
       "</div>"
      ],
      "text/plain": [
       "Empty DataFrame\n",
       "Columns: [level_0, index, loan_amnt, funded_amnt, funded_amnt_inv, term, int_rate, installment, grade, sub_grade, emp_title, emp_length, home_ownership, annual_inc, verification_status, issue_d, loan_status, pymnt_plan, purpose, title, zip_code, addr_state, dti, delinq_2yrs, earliest_cr_line, inq_last_6mths, open_acc, pub_rec, revol_bal, revol_util, total_acc, initial_list_status, out_prncp, out_prncp_inv, total_pymnt, total_pymnt_inv, total_rec_prncp, total_rec_int, total_rec_late_fee, recoveries, collection_recovery_fee, last_pymnt_d, last_pymnt_amnt, next_pymnt_d, last_credit_pull_d, collections_12_mths_ex_med, policy_code, application_type, acc_now_delinq, tot_coll_amt, tot_cur_bal, open_acc_6m, open_act_il, open_il_12m, open_il_24m, mths_since_rcnt_il, total_bal_il, il_util, open_rv_12m, open_rv_24m, max_bal_bc, all_util, total_rev_hi_lim, inq_fi, total_cu_tl, inq_last_12m, acc_open_past_24mths, avg_cur_bal, bc_open_to_buy, bc_util, chargeoff_within_12_mths, delinq_amnt, mo_sin_old_il_acct, mo_sin_old_rev_tl_op, mo_sin_rcnt_rev_tl_op, mo_sin_rcnt_tl, mort_acc, mths_since_recent_bc, mths_since_recent_inq, num_accts_ever_120_pd, num_actv_bc_tl, num_actv_rev_tl, num_bc_sats, num_bc_tl, num_il_tl, num_op_rev_tl, num_rev_accts, num_rev_tl_bal_gt_0, num_sats, num_tl_120dpd_2m, num_tl_30dpd, num_tl_90g_dpd_24m, num_tl_op_past_12m, pct_tl_nvr_dlq, percent_bc_gt_75, pub_rec_bankruptcies, tax_liens, tot_hi_cred_lim, total_bal_ex_mort, total_bc_limit, ...]\n",
       "Index: []\n",
       "\n",
       "[0 rows x 105 columns]"
      ]
     },
     "execution_count": 556,
     "metadata": {},
     "output_type": "execute_result"
    }
   ],
   "source": [
    "df1[df1['dti'].isnull()]"
   ]
  },
  {
   "cell_type": "code",
   "execution_count": 356,
   "metadata": {},
   "outputs": [],
   "source": [
    "df1['int_rate']=(df1['int_rate'].astype(float))"
   ]
  },
  {
   "cell_type": "markdown",
   "metadata": {},
   "source": [
    "# Trend_Analysis"
   ]
  },
  {
   "cell_type": "markdown",
   "metadata": {},
   "source": [
    "Looking at some important variables"
   ]
  },
  {
   "cell_type": "markdown",
   "metadata": {},
   "source": [
    "### Interest Rate"
   ]
  },
  {
   "cell_type": "code",
   "execution_count": 428,
   "metadata": {},
   "outputs": [
    {
     "data": {
      "text/plain": [
       "Text(0.5,1,' Distribution of Interest Rate')"
      ]
     },
     "execution_count": 428,
     "metadata": {},
     "output_type": "execute_result"
    },
    {
     "data": {
      "image/png": "[encoded data removed]",
      "text/plain": [
       "<matplotlib.figure.Figure at 0x1e6650f7b38>"
      ]
     },
     "metadata": {},
     "output_type": "display_data"
    }
   ],
   "source": [
    "sb.set(rc={'figure.figsize':(8,5)})\n",
    "sb.set_style(\"darkgrid\")\n",
    "sb.boxplot(x=df1['int_rate'])\n",
    "plt.xlabel(\"Interest Rate\")\n",
    "plt.title(\" Distribution of Interest Rate\",fontsize=15)"
   ]
  },
  {
   "cell_type": "code",
   "execution_count": 357,
   "metadata": {},
   "outputs": [
    {
     "data": {
      "text/html": [
       "<div>\n",
       "<style>\n",
       "    .dataframe thead tr:only-child th {\n",
       "        text-align: right;\n",
       "    }\n",
       "\n",
       "    .dataframe thead th {\n",
       "        text-align: left;\n",
       "    }\n",
       "\n",
       "    .dataframe tbody tr th {\n",
       "        vertical-align: top;\n",
       "    }\n",
       "</style>\n",
       "<table border=\"1\" class=\"dataframe\">\n",
       "  <thead>\n",
       "    <tr style=\"text-align: right;\">\n",
       "      <th></th>\n",
       "      <th>count</th>\n",
       "      <th>mean</th>\n",
       "      <th>std</th>\n",
       "      <th>min</th>\n",
       "      <th>25%</th>\n",
       "      <th>50%</th>\n",
       "      <th>75%</th>\n",
       "      <th>max</th>\n",
       "    </tr>\n",
       "  </thead>\n",
       "  <tbody>\n",
       "    <tr>\n",
       "      <th>int_rate</th>\n",
       "      <td>443579.0</td>\n",
       "      <td>13.246129</td>\n",
       "      <td>5.189064</td>\n",
       "      <td>5.32</td>\n",
       "      <td>9.93</td>\n",
       "      <td>12.62</td>\n",
       "      <td>15.99</td>\n",
       "      <td>30.99</td>\n",
       "    </tr>\n",
       "  </tbody>\n",
       "</table>\n",
       "</div>"
      ],
      "text/plain": [
       "             count       mean       std   min   25%    50%    75%    max\n",
       "int_rate  443579.0  13.246129  5.189064  5.32  9.93  12.62  15.99  30.99"
      ]
     },
     "execution_count": 357,
     "metadata": {},
     "output_type": "execute_result"
    }
   ],
   "source": [
    "pd.DataFrame(df1['int_rate'].describe()).transpose()"
   ]
  },
  {
   "cell_type": "code",
   "execution_count": 220,
   "metadata": {},
   "outputs": [],
   "source": [
    "df1['term']=(df1['term'].str.replace('months', ''))"
   ]
  },
  {
   "cell_type": "code",
   "execution_count": 221,
   "metadata": {},
   "outputs": [],
   "source": [
    "df1['term']=df1['term'].astype(int)"
   ]
  },
  {
   "cell_type": "code",
   "execution_count": 48,
   "metadata": {},
   "outputs": [],
   "source": [
    "#df1"
   ]
  },
  {
   "cell_type": "code",
   "execution_count": 222,
   "metadata": {},
   "outputs": [
    {
     "data": {
      "text/html": [
       "<div>\n",
       "<style>\n",
       "    .dataframe thead tr:only-child th {\n",
       "        text-align: right;\n",
       "    }\n",
       "\n",
       "    .dataframe thead th {\n",
       "        text-align: left;\n",
       "    }\n",
       "\n",
       "    .dataframe tbody tr th {\n",
       "        vertical-align: top;\n",
       "    }\n",
       "</style>\n",
       "<table border=\"1\" class=\"dataframe\">\n",
       "  <thead>\n",
       "    <tr style=\"text-align: right;\">\n",
       "      <th></th>\n",
       "      <th>count</th>\n",
       "      <th>mean</th>\n",
       "      <th>std</th>\n",
       "      <th>min</th>\n",
       "      <th>25%</th>\n",
       "      <th>50%</th>\n",
       "      <th>75%</th>\n",
       "      <th>max</th>\n",
       "    </tr>\n",
       "  </thead>\n",
       "  <tbody>\n",
       "    <tr>\n",
       "      <th>term</th>\n",
       "      <td>443579.0</td>\n",
       "      <td>42.663616</td>\n",
       "      <td>10.748175</td>\n",
       "      <td>36.0</td>\n",
       "      <td>36.0</td>\n",
       "      <td>36.0</td>\n",
       "      <td>60.0</td>\n",
       "      <td>60.0</td>\n",
       "    </tr>\n",
       "  </tbody>\n",
       "</table>\n",
       "</div>"
      ],
      "text/plain": [
       "         count       mean        std   min   25%   50%   75%   max\n",
       "term  443579.0  42.663616  10.748175  36.0  36.0  36.0  60.0  60.0"
      ]
     },
     "execution_count": 222,
     "metadata": {},
     "output_type": "execute_result"
    }
   ],
   "source": [
    "pd.DataFrame(df1['term'].describe()).transpose()"
   ]
  },
  {
   "cell_type": "code",
   "execution_count": 322,
   "metadata": {},
   "outputs": [],
   "source": [
    "#df1[df1['loan_amnt']!=df1['funded_amnt_inv']]"
   ]
  },
  {
   "cell_type": "code",
   "execution_count": 224,
   "metadata": {},
   "outputs": [
    {
     "data": {
      "text/plain": [
       "1872236.55784"
      ]
     },
     "execution_count": 224,
     "metadata": {},
     "output_type": "execute_result"
    }
   ],
   "source": [
    "(df1['loan_amnt']-df1['funded_amnt_inv']).sum()"
   ]
  },
  {
   "cell_type": "markdown",
   "metadata": {},
   "source": [
    "#### Every loan that is given out, is assigned a grade based on the borrowers's credit history, debt to income ratio, the purpose of the loan"
   ]
  },
  {
   "cell_type": "code",
   "execution_count": 381,
   "metadata": {},
   "outputs": [
    {
     "data": {
      "text/html": [
       "<div>\n",
       "<style>\n",
       "    .dataframe thead tr:only-child th {\n",
       "        text-align: right;\n",
       "    }\n",
       "\n",
       "    .dataframe thead th {\n",
       "        text-align: left;\n",
       "    }\n",
       "\n",
       "    .dataframe tbody tr th {\n",
       "        vertical-align: top;\n",
       "    }\n",
       "</style>\n",
       "<table border=\"1\" class=\"dataframe\">\n",
       "  <thead>\n",
       "    <tr style=\"text-align: right;\">\n",
       "      <th></th>\n",
       "      <th>grade</th>\n",
       "      <th>Count</th>\n",
       "    </tr>\n",
       "  </thead>\n",
       "  <tbody>\n",
       "    <tr>\n",
       "      <th>0</th>\n",
       "      <td>A</td>\n",
       "      <td>78796</td>\n",
       "    </tr>\n",
       "    <tr>\n",
       "      <th>1</th>\n",
       "      <td>B</td>\n",
       "      <td>133127</td>\n",
       "    </tr>\n",
       "    <tr>\n",
       "      <th>2</th>\n",
       "      <td>C</td>\n",
       "      <td>145144</td>\n",
       "    </tr>\n",
       "    <tr>\n",
       "      <th>3</th>\n",
       "      <td>D</td>\n",
       "      <td>56646</td>\n",
       "    </tr>\n",
       "    <tr>\n",
       "      <th>4</th>\n",
       "      <td>E</td>\n",
       "      <td>20167</td>\n",
       "    </tr>\n",
       "    <tr>\n",
       "      <th>5</th>\n",
       "      <td>F</td>\n",
       "      <td>6242</td>\n",
       "    </tr>\n",
       "    <tr>\n",
       "      <th>6</th>\n",
       "      <td>G</td>\n",
       "      <td>3457</td>\n",
       "    </tr>\n",
       "  </tbody>\n",
       "</table>\n",
       "</div>"
      ],
      "text/plain": [
       "  grade   Count\n",
       "0     A   78796\n",
       "1     B  133127\n",
       "2     C  145144\n",
       "3     D   56646\n",
       "4     E   20167\n",
       "5     F    6242\n",
       "6     G    3457"
      ]
     },
     "execution_count": 381,
     "metadata": {},
     "output_type": "execute_result"
    }
   ],
   "source": [
    "grade=pd.DataFrame(df1.groupby(['grade'])['int_rate'].count()).reset_index()\n",
    "grade=grade.rename(columns={'int_rate': 'Count'})\n",
    "grade"
   ]
  },
  {
   "cell_type": "code",
   "execution_count": 399,
   "metadata": {},
   "outputs": [
    {
     "data": {
      "text/plain": [
       "Text(0,0.5,'Count of each grade')"
      ]
     },
     "execution_count": 399,
     "metadata": {},
     "output_type": "execute_result"
    },
    {
     "data": {
      "image/png": "[encoded data removed]",
      "text/plain": [
       "<matplotlib.figure.Figure at 0x1e60c9ee4a8>"
      ]
     },
     "metadata": {},
     "output_type": "display_data"
    }
   ],
   "source": [
    "sb.set(rc={'figure.figsize':(8,5)})\n",
    "sb.set_style(\"ticks\")\n",
    "sb.barplot(x=grade['grade'],y=grade['Count'])\n",
    "plt.xlabel(\"Grade of the loan\")\n",
    "plt.ylabel(\"Count of each grade\")\n",
    "#grade.plot(kind='bar',color=\"Maroon\")"
   ]
  },
  {
   "cell_type": "markdown",
   "metadata": {},
   "source": [
    "#### As the grades progresses from A to G, the interest rate keeps increasing, Lendingg Club also sub divides this category into multiple instances"
   ]
  },
  {
   "cell_type": "code",
   "execution_count": 411,
   "metadata": {},
   "outputs": [],
   "source": [
    "subgrade=pd.DataFrame(df1.groupby(['grade','sub_grade'])['int_rate'].count()).reset_index()\n",
    "subgrade=subgrade.rename(columns={'int_rate': 'Count'})"
   ]
  },
  {
   "cell_type": "code",
   "execution_count": 412,
   "metadata": {},
   "outputs": [],
   "source": [
    "subgrade['sub_grade']=subgrade['sub_grade'].str.replace('[A-Z]','')"
   ]
  },
  {
   "cell_type": "code",
   "execution_count": 420,
   "metadata": {},
   "outputs": [
    {
     "data": {
      "text/html": [
       "<div>\n",
       "<style>\n",
       "    .dataframe thead tr:only-child th {\n",
       "        text-align: right;\n",
       "    }\n",
       "\n",
       "    .dataframe thead th {\n",
       "        text-align: left;\n",
       "    }\n",
       "\n",
       "    .dataframe tbody tr th {\n",
       "        vertical-align: top;\n",
       "    }\n",
       "</style>\n",
       "<table border=\"1\" class=\"dataframe\">\n",
       "  <thead>\n",
       "    <tr style=\"text-align: right;\">\n",
       "      <th></th>\n",
       "      <th>grade</th>\n",
       "      <th>sub_grade</th>\n",
       "      <th>Count</th>\n",
       "    </tr>\n",
       "  </thead>\n",
       "  <tbody>\n",
       "    <tr>\n",
       "      <th>0</th>\n",
       "      <td>A</td>\n",
       "      <td>1</td>\n",
       "      <td>16266</td>\n",
       "    </tr>\n",
       "    <tr>\n",
       "      <th>1</th>\n",
       "      <td>A</td>\n",
       "      <td>2</td>\n",
       "      <td>13458</td>\n",
       "    </tr>\n",
       "    <tr>\n",
       "      <th>2</th>\n",
       "      <td>A</td>\n",
       "      <td>3</td>\n",
       "      <td>14447</td>\n",
       "    </tr>\n",
       "    <tr>\n",
       "      <th>3</th>\n",
       "      <td>A</td>\n",
       "      <td>4</td>\n",
       "      <td>14964</td>\n",
       "    </tr>\n",
       "    <tr>\n",
       "      <th>4</th>\n",
       "      <td>A</td>\n",
       "      <td>5</td>\n",
       "      <td>19661</td>\n",
       "    </tr>\n",
       "  </tbody>\n",
       "</table>\n",
       "</div>"
      ],
      "text/plain": [
       "  grade sub_grade  Count\n",
       "0     A         1  16266\n",
       "1     A         2  13458\n",
       "2     A         3  14447\n",
       "3     A         4  14964\n",
       "4     A         5  19661"
      ]
     },
     "execution_count": 420,
     "metadata": {},
     "output_type": "execute_result"
    }
   ],
   "source": [
    "subgrade.head()"
   ]
  },
  {
   "cell_type": "markdown",
   "metadata": {},
   "source": [
    "#### Number of loans given out by every grade and sub grade"
   ]
  },
  {
   "cell_type": "code",
   "execution_count": 419,
   "metadata": {},
   "outputs": [
    {
     "data": {
      "image/png": "[encoded data removed]",
      "text/plain": [
       "<matplotlib.figure.Figure at 0x1e60cb21c18>"
      ]
     },
     "metadata": {},
     "output_type": "display_data"
    }
   ],
   "source": [
    "sb.set(rc={'figure.figsize':(10,6)})\n",
    "sb.set_style(\"whitegrid\")\n",
    "sb.barplot(x=\"grade\", y=\"Count\", hue=\"sub_grade\", data=subgrade, palette=\"Greens_d\");"
   ]
  },
  {
   "cell_type": "markdown",
   "metadata": {},
   "source": [
    "#### Grade, has a direct relation with the interest rest the borrower is given out the money on"
   ]
  },
  {
   "cell_type": "code",
   "execution_count": 421,
   "metadata": {},
   "outputs": [],
   "source": [
    "#sb.barplot(x=df1['grade'],y=df1['int_rate'])"
   ]
  },
  {
   "cell_type": "code",
   "execution_count": 424,
   "metadata": {
    "scrolled": true
   },
   "outputs": [
    {
     "data": {
      "image/png": "[encoded data removed]",
      "text/plain": [
       "<matplotlib.figure.Figure at 0x1e61346ada0>"
      ]
     },
     "metadata": {},
     "output_type": "display_data"
    }
   ],
   "source": [
    "g = sb.FacetGrid(df1, col=\"grade\", size=5, aspect=.4)\n",
    "g.map(sb.boxplot, \"grade\", \"int_rate\");"
   ]
  },
  {
   "cell_type": "code",
   "execution_count": 228,
   "metadata": {},
   "outputs": [
    {
     "data": {
      "text/html": [
       "<div>\n",
       "<style>\n",
       "    .dataframe thead tr:only-child th {\n",
       "        text-align: right;\n",
       "    }\n",
       "\n",
       "    .dataframe thead th {\n",
       "        text-align: left;\n",
       "    }\n",
       "\n",
       "    .dataframe tbody tr th {\n",
       "        vertical-align: top;\n",
       "    }\n",
       "</style>\n",
       "<table border=\"1\" class=\"dataframe\">\n",
       "  <thead>\n",
       "    <tr style=\"text-align: right;\">\n",
       "      <th></th>\n",
       "      <th>quarter</th>\n",
       "      <th>loan_amnt</th>\n",
       "    </tr>\n",
       "  </thead>\n",
       "  <tbody>\n",
       "    <tr>\n",
       "      <th>0</th>\n",
       "      <td>Q1</td>\n",
       "      <td>96779</td>\n",
       "    </tr>\n",
       "    <tr>\n",
       "      <th>1</th>\n",
       "      <td>Q2</td>\n",
       "      <td>105451</td>\n",
       "    </tr>\n",
       "    <tr>\n",
       "      <th>2</th>\n",
       "      <td>Q3</td>\n",
       "      <td>122701</td>\n",
       "    </tr>\n",
       "    <tr>\n",
       "      <th>3</th>\n",
       "      <td>Q4</td>\n",
       "      <td>118648</td>\n",
       "    </tr>\n",
       "  </tbody>\n",
       "</table>\n",
       "</div>"
      ],
      "text/plain": [
       "  quarter  loan_amnt\n",
       "0      Q1      96779\n",
       "1      Q2     105451\n",
       "2      Q3     122701\n",
       "3      Q4     118648"
      ]
     },
     "execution_count": 228,
     "metadata": {},
     "output_type": "execute_result"
    }
   ],
   "source": [
    "pd.DataFrame(df1.groupby(['quarter'])['loan_amnt'].count()).reset_index()"
   ]
  },
  {
   "cell_type": "code",
   "execution_count": 274,
   "metadata": {},
   "outputs": [],
   "source": [
    "state=df1.groupby(['addr_state'])['loan_amnt'].count().reset_index()"
   ]
  },
  {
   "cell_type": "code",
   "execution_count": 257,
   "metadata": {},
   "outputs": [],
   "source": [
    "#state.dtypes\n",
    "state['addr_state']=state['addr_state'].to_string()"
   ]
  },
  {
   "cell_type": "code",
   "execution_count": 270,
   "metadata": {},
   "outputs": [],
   "source": [
    "state.dtypes\n",
    "#flights.pivot(\"month\", \"year\", \"passengers\")\n",
    "#state=state.pivot(\"addr_state\",\"loan_amnt\")"
   ]
  },
  {
   "cell_type": "code",
   "execution_count": 605,
   "metadata": {},
   "outputs": [
    {
     "data": {
      "text/plain": [
       "Text(0,0.5,'Count')"
      ]
     },
     "execution_count": 605,
     "metadata": {},
     "output_type": "execute_result"
    },
    {
     "data": {
      "image/png": "[encoded data removed]",
      "text/plain": [
       "<matplotlib.figure.Figure at 0x1e60c278630>"
      ]
     },
     "metadata": {},
     "output_type": "display_data"
    }
   ],
   "source": [
    "sb.set(rc={'figure.figsize':(15,6)})\n",
    "sb.set_style(\"whitegrid\")\n",
    "sb.barplot(x=state['addr_state'],y=state['loan_amnt'])\n",
    "plt.xlabel(\"State\")\n",
    "plt.ylabel(\"Count\")"
   ]
  },
  {
   "cell_type": "code",
   "execution_count": 577,
   "metadata": {},
   "outputs": [],
   "source": [
    "loanstatus=pd.DataFrame(df1.groupby(['loan_status'])['level_0'].count()).reset_index()"
   ]
  },
  {
   "cell_type": "code",
   "execution_count": 602,
   "metadata": {},
   "outputs": [
    {
     "data": {
      "text/html": [
       "<div>\n",
       "<style>\n",
       "    .dataframe thead tr:only-child th {\n",
       "        text-align: right;\n",
       "    }\n",
       "\n",
       "    .dataframe thead th {\n",
       "        text-align: left;\n",
       "    }\n",
       "\n",
       "    .dataframe tbody tr th {\n",
       "        vertical-align: top;\n",
       "    }\n",
       "</style>\n",
       "<table border=\"1\" class=\"dataframe\">\n",
       "  <thead>\n",
       "    <tr style=\"text-align: right;\">\n",
       "      <th></th>\n",
       "      <th>loan_status</th>\n",
       "      <th>level_0</th>\n",
       "    </tr>\n",
       "  </thead>\n",
       "  <tbody>\n",
       "    <tr>\n",
       "      <th>0</th>\n",
       "      <td>Charged Off</td>\n",
       "      <td>5281</td>\n",
       "    </tr>\n",
       "    <tr>\n",
       "      <th>2</th>\n",
       "      <td>Default</td>\n",
       "      <td>10</td>\n",
       "    </tr>\n",
       "    <tr>\n",
       "      <th>3</th>\n",
       "      <td>Fully Paid</td>\n",
       "      <td>38759</td>\n",
       "    </tr>\n",
       "    <tr>\n",
       "      <th>4</th>\n",
       "      <td>In Grace Period</td>\n",
       "      <td>4142</td>\n",
       "    </tr>\n",
       "    <tr>\n",
       "      <th>5</th>\n",
       "      <td>Late (16-30 days)</td>\n",
       "      <td>1686</td>\n",
       "    </tr>\n",
       "    <tr>\n",
       "      <th>6</th>\n",
       "      <td>Late (31-120 days)</td>\n",
       "      <td>6402</td>\n",
       "    </tr>\n",
       "  </tbody>\n",
       "</table>\n",
       "</div>"
      ],
      "text/plain": [
       "          loan_status  level_0\n",
       "0         Charged Off     5281\n",
       "2             Default       10\n",
       "3          Fully Paid    38759\n",
       "4     In Grace Period     4142\n",
       "5   Late (16-30 days)     1686\n",
       "6  Late (31-120 days)     6402"
      ]
     },
     "execution_count": 602,
     "metadata": {},
     "output_type": "execute_result"
    }
   ],
   "source": [
    "loanstatus"
   ]
  },
  {
   "cell_type": "code",
   "execution_count": 601,
   "metadata": {},
   "outputs": [
    {
     "data": {
      "text/plain": [
       "Text(0,0.5,'Count')"
      ]
     },
     "execution_count": 601,
     "metadata": {},
     "output_type": "execute_result"
    },
    {
     "data": {
      "image/png": "[encoded data removed]",
      "text/plain": [
       "<matplotlib.figure.Figure at 0x1e68adab9e8>"
      ]
     },
     "metadata": {},
     "output_type": "display_data"
    }
   ],
   "source": [
    "sb.set(rc={'figure.figsize':(10,6)})\n",
    "sb.set_style(\"whitegrid\")\n",
    "sb.barplot(x=\"loan_status\",y=\"level_0\",data=loanstatus,color=\"black\")\n",
    "plt.xlabel(\"Loan Status\")\n",
    "plt.ylabel(\"Count\")"
   ]
  },
  {
   "cell_type": "code",
   "execution_count": 298,
   "metadata": {},
   "outputs": [],
   "source": [
    "corr=df1.corr()"
   ]
  },
  {
   "cell_type": "code",
   "execution_count": 319,
   "metadata": {},
   "outputs": [],
   "source": [
    "x=corr[corr>0.7]"
   ]
  },
  {
   "cell_type": "code",
   "execution_count": 616,
   "metadata": {},
   "outputs": [],
   "source": [
    "outliers=df1[df1['annual_inc']>1000000]"
   ]
  },
  {
   "cell_type": "code",
   "execution_count": 630,
   "metadata": {
    "scrolled": true
   },
   "outputs": [],
   "source": [
    "#list(outliers)\n",
    "outliers=outliers.sort_values(['loan_amnt'], ascending=[True])"
   ]
  },
  {
   "cell_type": "code",
   "execution_count": 631,
   "metadata": {},
   "outputs": [
    {
     "data": {
      "text/html": [
       "<div>\n",
       "<style>\n",
       "    .dataframe thead tr:only-child th {\n",
       "        text-align: right;\n",
       "    }\n",
       "\n",
       "    .dataframe thead th {\n",
       "        text-align: left;\n",
       "    }\n",
       "\n",
       "    .dataframe tbody tr th {\n",
       "        vertical-align: top;\n",
       "    }\n",
       "</style>\n",
       "<table border=\"1\" class=\"dataframe\">\n",
       "  <thead>\n",
       "    <tr style=\"text-align: right;\">\n",
       "      <th></th>\n",
       "      <th>loan_amnt</th>\n",
       "      <th>annual_inc</th>\n",
       "      <th>emp_title</th>\n",
       "      <th>int_rate</th>\n",
       "      <th>dti</th>\n",
       "      <th>grade</th>\n",
       "    </tr>\n",
       "  </thead>\n",
       "  <tbody>\n",
       "    <tr>\n",
       "      <th>135164</th>\n",
       "      <td>1200</td>\n",
       "      <td>4200000.0</td>\n",
       "      <td>Business Office Manager</td>\n",
       "      <td>9.93</td>\n",
       "      <td>0.20</td>\n",
       "      <td>B</td>\n",
       "    </tr>\n",
       "    <tr>\n",
       "      <th>350504</th>\n",
       "      <td>1600</td>\n",
       "      <td>3100000.0</td>\n",
       "      <td>CSR</td>\n",
       "      <td>11.39</td>\n",
       "      <td>0.44</td>\n",
       "      <td>B</td>\n",
       "    </tr>\n",
       "    <tr>\n",
       "      <th>123842</th>\n",
       "      <td>1800</td>\n",
       "      <td>3760640.0</td>\n",
       "      <td>Usher</td>\n",
       "      <td>10.42</td>\n",
       "      <td>0.10</td>\n",
       "      <td>B</td>\n",
       "    </tr>\n",
       "    <tr>\n",
       "      <th>344971</th>\n",
       "      <td>2200</td>\n",
       "      <td>3650010.0</td>\n",
       "      <td>Auto tech</td>\n",
       "      <td>12.74</td>\n",
       "      <td>0.12</td>\n",
       "      <td>C</td>\n",
       "    </tr>\n",
       "    <tr>\n",
       "      <th>6905</th>\n",
       "      <td>3200</td>\n",
       "      <td>1080000.0</td>\n",
       "      <td>Senior sales rep</td>\n",
       "      <td>19.03</td>\n",
       "      <td>0.20</td>\n",
       "      <td>D</td>\n",
       "    </tr>\n",
       "    <tr>\n",
       "      <th>168893</th>\n",
       "      <td>4000</td>\n",
       "      <td>1251300.0</td>\n",
       "      <td>Supervisor</td>\n",
       "      <td>11.99</td>\n",
       "      <td>2.51</td>\n",
       "      <td>B</td>\n",
       "    </tr>\n",
       "    <tr>\n",
       "      <th>138034</th>\n",
       "      <td>4800</td>\n",
       "      <td>5300000.0</td>\n",
       "      <td>Clerical</td>\n",
       "      <td>7.07</td>\n",
       "      <td>0.20</td>\n",
       "      <td>A</td>\n",
       "    </tr>\n",
       "    <tr>\n",
       "      <th>390343</th>\n",
       "      <td>5000</td>\n",
       "      <td>4367398.0</td>\n",
       "      <td>teck 2</td>\n",
       "      <td>11.39</td>\n",
       "      <td>0.42</td>\n",
       "      <td>B</td>\n",
       "    </tr>\n",
       "    <tr>\n",
       "      <th>15279</th>\n",
       "      <td>5000</td>\n",
       "      <td>4680804.0</td>\n",
       "      <td>Security guard</td>\n",
       "      <td>20.00</td>\n",
       "      <td>0.05</td>\n",
       "      <td>D</td>\n",
       "    </tr>\n",
       "    <tr>\n",
       "      <th>16230</th>\n",
       "      <td>5000</td>\n",
       "      <td>2162772.0</td>\n",
       "      <td>Detention Deputy</td>\n",
       "      <td>19.03</td>\n",
       "      <td>0.35</td>\n",
       "      <td>D</td>\n",
       "    </tr>\n",
       "    <tr>\n",
       "      <th>129491</th>\n",
       "      <td>5000</td>\n",
       "      <td>10999200.0</td>\n",
       "      <td>Consultant</td>\n",
       "      <td>18.06</td>\n",
       "      <td>0.07</td>\n",
       "      <td>D</td>\n",
       "    </tr>\n",
       "    <tr>\n",
       "      <th>27676</th>\n",
       "      <td>7200</td>\n",
       "      <td>7845315.0</td>\n",
       "      <td>Cable Splicing Tech</td>\n",
       "      <td>20.00</td>\n",
       "      <td>0.21</td>\n",
       "      <td>D</td>\n",
       "    </tr>\n",
       "    <tr>\n",
       "      <th>335098</th>\n",
       "      <td>7200</td>\n",
       "      <td>4000040.0</td>\n",
       "      <td>Checker quality assurance</td>\n",
       "      <td>10.49</td>\n",
       "      <td>0.45</td>\n",
       "      <td>B</td>\n",
       "    </tr>\n",
       "    <tr>\n",
       "      <th>28021</th>\n",
       "      <td>7200</td>\n",
       "      <td>4200000.0</td>\n",
       "      <td>Cook</td>\n",
       "      <td>20.00</td>\n",
       "      <td>0.16</td>\n",
       "      <td>D</td>\n",
       "    </tr>\n",
       "    <tr>\n",
       "      <th>29041</th>\n",
       "      <td>7500</td>\n",
       "      <td>1200000.0</td>\n",
       "      <td>President</td>\n",
       "      <td>7.21</td>\n",
       "      <td>1.81</td>\n",
       "      <td>A</td>\n",
       "    </tr>\n",
       "    <tr>\n",
       "      <th>32766</th>\n",
       "      <td>8000</td>\n",
       "      <td>4750000.0</td>\n",
       "      <td>Personal Banker</td>\n",
       "      <td>10.42</td>\n",
       "      <td>0.31</td>\n",
       "      <td>B</td>\n",
       "    </tr>\n",
       "    <tr>\n",
       "      <th>40256</th>\n",
       "      <td>10000</td>\n",
       "      <td>1400000.0</td>\n",
       "      <td>Sales &amp; Marketing</td>\n",
       "      <td>7.35</td>\n",
       "      <td>3.34</td>\n",
       "      <td>A</td>\n",
       "    </tr>\n",
       "    <tr>\n",
       "      <th>39803</th>\n",
       "      <td>10000</td>\n",
       "      <td>4784000.0</td>\n",
       "      <td>Billing Analyst</td>\n",
       "      <td>6.72</td>\n",
       "      <td>0.13</td>\n",
       "      <td>A</td>\n",
       "    </tr>\n",
       "    <tr>\n",
       "      <th>46152</th>\n",
       "      <td>10000</td>\n",
       "      <td>3642200.0</td>\n",
       "      <td>Food service manager</td>\n",
       "      <td>11.99</td>\n",
       "      <td>0.20</td>\n",
       "      <td>B</td>\n",
       "    </tr>\n",
       "    <tr>\n",
       "      <th>42548</th>\n",
       "      <td>10000</td>\n",
       "      <td>8000000.0</td>\n",
       "      <td>Sr Tech Writer</td>\n",
       "      <td>18.06</td>\n",
       "      <td>0.21</td>\n",
       "      <td>D</td>\n",
       "    </tr>\n",
       "    <tr>\n",
       "      <th>365149</th>\n",
       "      <td>10000</td>\n",
       "      <td>61000000.0</td>\n",
       "      <td>Waitress</td>\n",
       "      <td>11.44</td>\n",
       "      <td>0.01</td>\n",
       "      <td>B</td>\n",
       "    </tr>\n",
       "    <tr>\n",
       "      <th>245076</th>\n",
       "      <td>10000</td>\n",
       "      <td>1200000.0</td>\n",
       "      <td>COO</td>\n",
       "      <td>18.06</td>\n",
       "      <td>5.79</td>\n",
       "      <td>D</td>\n",
       "    </tr>\n",
       "    <tr>\n",
       "      <th>41039</th>\n",
       "      <td>10000</td>\n",
       "      <td>2416960.0</td>\n",
       "      <td>Tourist Guide</td>\n",
       "      <td>10.42</td>\n",
       "      <td>0.38</td>\n",
       "      <td>B</td>\n",
       "    </tr>\n",
       "    <tr>\n",
       "      <th>371943</th>\n",
       "      <td>12000</td>\n",
       "      <td>4100000.0</td>\n",
       "      <td>Buyer</td>\n",
       "      <td>14.99</td>\n",
       "      <td>0.26</td>\n",
       "      <td>C</td>\n",
       "    </tr>\n",
       "    <tr>\n",
       "      <th>434811</th>\n",
       "      <td>13000</td>\n",
       "      <td>5990095.0</td>\n",
       "      <td>Truck Driver</td>\n",
       "      <td>15.99</td>\n",
       "      <td>0.39</td>\n",
       "      <td>C</td>\n",
       "    </tr>\n",
       "    <tr>\n",
       "      <th>258477</th>\n",
       "      <td>15000</td>\n",
       "      <td>1010000.0</td>\n",
       "      <td>Flight Attendant</td>\n",
       "      <td>25.82</td>\n",
       "      <td>1.56</td>\n",
       "      <td>E</td>\n",
       "    </tr>\n",
       "    <tr>\n",
       "      <th>70408</th>\n",
       "      <td>15000</td>\n",
       "      <td>7200000.0</td>\n",
       "      <td>Registered Nurse</td>\n",
       "      <td>18.06</td>\n",
       "      <td>0.18</td>\n",
       "      <td>D</td>\n",
       "    </tr>\n",
       "    <tr>\n",
       "      <th>415812</th>\n",
       "      <td>15000</td>\n",
       "      <td>7500000.0</td>\n",
       "      <td>Conductor</td>\n",
       "      <td>8.24</td>\n",
       "      <td>0.32</td>\n",
       "      <td>B</td>\n",
       "    </tr>\n",
       "    <tr>\n",
       "      <th>280508</th>\n",
       "      <td>16000</td>\n",
       "      <td>5616890.0</td>\n",
       "      <td>Technician</td>\n",
       "      <td>14.08</td>\n",
       "      <td>0.09</td>\n",
       "      <td>C</td>\n",
       "    </tr>\n",
       "    <tr>\n",
       "      <th>342449</th>\n",
       "      <td>16000</td>\n",
       "      <td>3800000.0</td>\n",
       "      <td>Medical assistant</td>\n",
       "      <td>14.99</td>\n",
       "      <td>0.44</td>\n",
       "      <td>C</td>\n",
       "    </tr>\n",
       "    <tr>\n",
       "      <th>...</th>\n",
       "      <td>...</td>\n",
       "      <td>...</td>\n",
       "      <td>...</td>\n",
       "      <td>...</td>\n",
       "      <td>...</td>\n",
       "      <td>...</td>\n",
       "    </tr>\n",
       "    <tr>\n",
       "      <th>111070</th>\n",
       "      <td>35000</td>\n",
       "      <td>1400000.0</td>\n",
       "      <td>Attorney</td>\n",
       "      <td>12.62</td>\n",
       "      <td>9.56</td>\n",
       "      <td>C</td>\n",
       "    </tr>\n",
       "    <tr>\n",
       "      <th>112459</th>\n",
       "      <td>35000</td>\n",
       "      <td>1300000.0</td>\n",
       "      <td>Partner</td>\n",
       "      <td>17.09</td>\n",
       "      <td>9.07</td>\n",
       "      <td>D</td>\n",
       "    </tr>\n",
       "    <tr>\n",
       "      <th>111473</th>\n",
       "      <td>35000</td>\n",
       "      <td>1150000.0</td>\n",
       "      <td>C.O.O.</td>\n",
       "      <td>10.42</td>\n",
       "      <td>0.52</td>\n",
       "      <td>B</td>\n",
       "    </tr>\n",
       "    <tr>\n",
       "      <th>109666</th>\n",
       "      <td>35000</td>\n",
       "      <td>1950000.0</td>\n",
       "      <td>Senior Solutions Engineer</td>\n",
       "      <td>5.32</td>\n",
       "      <td>0.87</td>\n",
       "      <td>A</td>\n",
       "    </tr>\n",
       "    <tr>\n",
       "      <th>112090</th>\n",
       "      <td>35000</td>\n",
       "      <td>1100000.0</td>\n",
       "      <td>Vice President</td>\n",
       "      <td>7.35</td>\n",
       "      <td>5.51</td>\n",
       "      <td>A</td>\n",
       "    </tr>\n",
       "    <tr>\n",
       "      <th>112639</th>\n",
       "      <td>35000</td>\n",
       "      <td>1400000.0</td>\n",
       "      <td>Proj engineer</td>\n",
       "      <td>13.59</td>\n",
       "      <td>1.82</td>\n",
       "      <td>C</td>\n",
       "    </tr>\n",
       "    <tr>\n",
       "      <th>390658</th>\n",
       "      <td>35000</td>\n",
       "      <td>1200000.0</td>\n",
       "      <td>EVP</td>\n",
       "      <td>6.99</td>\n",
       "      <td>9.44</td>\n",
       "      <td>A</td>\n",
       "    </tr>\n",
       "    <tr>\n",
       "      <th>180473</th>\n",
       "      <td>35000</td>\n",
       "      <td>1140000.0</td>\n",
       "      <td>Learning Technology Manager</td>\n",
       "      <td>15.05</td>\n",
       "      <td>0.82</td>\n",
       "      <td>C</td>\n",
       "    </tr>\n",
       "    <tr>\n",
       "      <th>111655</th>\n",
       "      <td>35000</td>\n",
       "      <td>1250000.0</td>\n",
       "      <td>Managing Director</td>\n",
       "      <td>10.91</td>\n",
       "      <td>15.11</td>\n",
       "      <td>B</td>\n",
       "    </tr>\n",
       "    <tr>\n",
       "      <th>279928</th>\n",
       "      <td>36125</td>\n",
       "      <td>2000000.0</td>\n",
       "      <td>Partner</td>\n",
       "      <td>7.21</td>\n",
       "      <td>6.49</td>\n",
       "      <td>A</td>\n",
       "    </tr>\n",
       "    <tr>\n",
       "      <th>114498</th>\n",
       "      <td>38000</td>\n",
       "      <td>6500031.0</td>\n",
       "      <td>Trash Truck driver</td>\n",
       "      <td>12.62</td>\n",
       "      <td>0.14</td>\n",
       "      <td>C</td>\n",
       "    </tr>\n",
       "    <tr>\n",
       "      <th>198470</th>\n",
       "      <td>40000</td>\n",
       "      <td>1460000.0</td>\n",
       "      <td>Sr Manager</td>\n",
       "      <td>16.02</td>\n",
       "      <td>2.35</td>\n",
       "      <td>C</td>\n",
       "    </tr>\n",
       "    <tr>\n",
       "      <th>274640</th>\n",
       "      <td>40000</td>\n",
       "      <td>1344000.0</td>\n",
       "      <td>Vice President</td>\n",
       "      <td>5.32</td>\n",
       "      <td>3.52</td>\n",
       "      <td>A</td>\n",
       "    </tr>\n",
       "    <tr>\n",
       "      <th>118450</th>\n",
       "      <td>40000</td>\n",
       "      <td>1250000.0</td>\n",
       "      <td>airline pilot</td>\n",
       "      <td>7.07</td>\n",
       "      <td>4.98</td>\n",
       "      <td>A</td>\n",
       "    </tr>\n",
       "    <tr>\n",
       "      <th>118270</th>\n",
       "      <td>40000</td>\n",
       "      <td>1500000.0</td>\n",
       "      <td>Managing Director</td>\n",
       "      <td>5.32</td>\n",
       "      <td>13.71</td>\n",
       "      <td>A</td>\n",
       "    </tr>\n",
       "    <tr>\n",
       "      <th>117550</th>\n",
       "      <td>40000</td>\n",
       "      <td>1400000.0</td>\n",
       "      <td>Director of Engg</td>\n",
       "      <td>5.32</td>\n",
       "      <td>5.06</td>\n",
       "      <td>A</td>\n",
       "    </tr>\n",
       "    <tr>\n",
       "      <th>118047</th>\n",
       "      <td>40000</td>\n",
       "      <td>1200000.0</td>\n",
       "      <td>President</td>\n",
       "      <td>7.07</td>\n",
       "      <td>11.44</td>\n",
       "      <td>A</td>\n",
       "    </tr>\n",
       "    <tr>\n",
       "      <th>117933</th>\n",
       "      <td>40000</td>\n",
       "      <td>1200000.0</td>\n",
       "      <td>Aircraft Tech</td>\n",
       "      <td>7.97</td>\n",
       "      <td>0.84</td>\n",
       "      <td>A</td>\n",
       "    </tr>\n",
       "    <tr>\n",
       "      <th>117776</th>\n",
       "      <td>40000</td>\n",
       "      <td>3320000.0</td>\n",
       "      <td>Director, Talent Advisory</td>\n",
       "      <td>7.21</td>\n",
       "      <td>0.71</td>\n",
       "      <td>A</td>\n",
       "    </tr>\n",
       "    <tr>\n",
       "      <th>412035</th>\n",
       "      <td>40000</td>\n",
       "      <td>1200000.0</td>\n",
       "      <td>Pilot</td>\n",
       "      <td>11.49</td>\n",
       "      <td>0.75</td>\n",
       "      <td>B</td>\n",
       "    </tr>\n",
       "    <tr>\n",
       "      <th>127218</th>\n",
       "      <td>40000</td>\n",
       "      <td>1500000.0</td>\n",
       "      <td>Managing Director</td>\n",
       "      <td>12.62</td>\n",
       "      <td>4.29</td>\n",
       "      <td>C</td>\n",
       "    </tr>\n",
       "    <tr>\n",
       "      <th>286120</th>\n",
       "      <td>40000</td>\n",
       "      <td>1300000.0</td>\n",
       "      <td>Managing Director</td>\n",
       "      <td>12.62</td>\n",
       "      <td>3.48</td>\n",
       "      <td>C</td>\n",
       "    </tr>\n",
       "    <tr>\n",
       "      <th>307804</th>\n",
       "      <td>40000</td>\n",
       "      <td>1800000.0</td>\n",
       "      <td>CEO Cards</td>\n",
       "      <td>7.24</td>\n",
       "      <td>4.53</td>\n",
       "      <td>A</td>\n",
       "    </tr>\n",
       "    <tr>\n",
       "      <th>413185</th>\n",
       "      <td>40000</td>\n",
       "      <td>1200000.0</td>\n",
       "      <td>Sr. Vice President</td>\n",
       "      <td>7.99</td>\n",
       "      <td>2.64</td>\n",
       "      <td>A</td>\n",
       "    </tr>\n",
       "    <tr>\n",
       "      <th>114863</th>\n",
       "      <td>40000</td>\n",
       "      <td>1428000.0</td>\n",
       "      <td>President</td>\n",
       "      <td>7.35</td>\n",
       "      <td>7.22</td>\n",
       "      <td>A</td>\n",
       "    </tr>\n",
       "    <tr>\n",
       "      <th>356473</th>\n",
       "      <td>40000</td>\n",
       "      <td>1100000.0</td>\n",
       "      <td>Vice President</td>\n",
       "      <td>5.32</td>\n",
       "      <td>4.89</td>\n",
       "      <td>A</td>\n",
       "    </tr>\n",
       "    <tr>\n",
       "      <th>115328</th>\n",
       "      <td>40000</td>\n",
       "      <td>4255262.0</td>\n",
       "      <td>Investigator</td>\n",
       "      <td>9.93</td>\n",
       "      <td>0.44</td>\n",
       "      <td>B</td>\n",
       "    </tr>\n",
       "    <tr>\n",
       "      <th>116050</th>\n",
       "      <td>40000</td>\n",
       "      <td>1508000.0</td>\n",
       "      <td>President</td>\n",
       "      <td>7.97</td>\n",
       "      <td>5.49</td>\n",
       "      <td>A</td>\n",
       "    </tr>\n",
       "    <tr>\n",
       "      <th>223858</th>\n",
       "      <td>40000</td>\n",
       "      <td>2000000.0</td>\n",
       "      <td>Senior Managing Director</td>\n",
       "      <td>14.08</td>\n",
       "      <td>0.45</td>\n",
       "      <td>C</td>\n",
       "    </tr>\n",
       "    <tr>\n",
       "      <th>117179</th>\n",
       "      <td>40000</td>\n",
       "      <td>2200000.0</td>\n",
       "      <td>President</td>\n",
       "      <td>9.44</td>\n",
       "      <td>2.72</td>\n",
       "      <td>B</td>\n",
       "    </tr>\n",
       "  </tbody>\n",
       "</table>\n",
       "<p>104 rows × 6 columns</p>\n",
       "</div>"
      ],
      "text/plain": [
       "        loan_amnt  annual_inc                    emp_title  int_rate    dti  \\\n",
       "135164       1200   4200000.0      Business Office Manager      9.93   0.20   \n",
       "350504       1600   3100000.0                          CSR     11.39   0.44   \n",
       "123842       1800   3760640.0                        Usher     10.42   0.10   \n",
       "344971       2200   3650010.0                    Auto tech     12.74   0.12   \n",
       "6905         3200   1080000.0             Senior sales rep     19.03   0.20   \n",
       "168893       4000   1251300.0                   Supervisor     11.99   2.51   \n",
       "138034       4800   5300000.0                     Clerical      7.07   0.20   \n",
       "390343       5000   4367398.0                       teck 2     11.39   0.42   \n",
       "15279        5000   4680804.0              Security guard      20.00   0.05   \n",
       "16230        5000   2162772.0             Detention Deputy     19.03   0.35   \n",
       "129491       5000  10999200.0                   Consultant     18.06   0.07   \n",
       "27676        7200   7845315.0          Cable Splicing Tech     20.00   0.21   \n",
       "335098       7200   4000040.0    Checker quality assurance     10.49   0.45   \n",
       "28021        7200   4200000.0                         Cook     20.00   0.16   \n",
       "29041        7500   1200000.0                    President      7.21   1.81   \n",
       "32766        8000   4750000.0              Personal Banker     10.42   0.31   \n",
       "40256       10000   1400000.0            Sales & Marketing      7.35   3.34   \n",
       "39803       10000   4784000.0              Billing Analyst      6.72   0.13   \n",
       "46152       10000   3642200.0         Food service manager     11.99   0.20   \n",
       "42548       10000   8000000.0               Sr Tech Writer     18.06   0.21   \n",
       "365149      10000  61000000.0                    Waitress      11.44   0.01   \n",
       "245076      10000   1200000.0                          COO     18.06   5.79   \n",
       "41039       10000   2416960.0                Tourist Guide     10.42   0.38   \n",
       "371943      12000   4100000.0                        Buyer     14.99   0.26   \n",
       "434811      13000   5990095.0                 Truck Driver     15.99   0.39   \n",
       "258477      15000   1010000.0             Flight Attendant     25.82   1.56   \n",
       "70408       15000   7200000.0             Registered Nurse     18.06   0.18   \n",
       "415812      15000   7500000.0                    Conductor      8.24   0.32   \n",
       "280508      16000   5616890.0                   Technician     14.08   0.09   \n",
       "342449      16000   3800000.0           Medical assistant      14.99   0.44   \n",
       "...           ...         ...                          ...       ...    ...   \n",
       "111070      35000   1400000.0                     Attorney     12.62   9.56   \n",
       "112459      35000   1300000.0                      Partner     17.09   9.07   \n",
       "111473      35000   1150000.0                       C.O.O.     10.42   0.52   \n",
       "109666      35000   1950000.0    Senior Solutions Engineer      5.32   0.87   \n",
       "112090      35000   1100000.0               Vice President      7.35   5.51   \n",
       "112639      35000   1400000.0                Proj engineer     13.59   1.82   \n",
       "390658      35000   1200000.0                          EVP      6.99   9.44   \n",
       "180473      35000   1140000.0  Learning Technology Manager     15.05   0.82   \n",
       "111655      35000   1250000.0            Managing Director     10.91  15.11   \n",
       "279928      36125   2000000.0                      Partner      7.21   6.49   \n",
       "114498      38000   6500031.0           Trash Truck driver     12.62   0.14   \n",
       "198470      40000   1460000.0                   Sr Manager     16.02   2.35   \n",
       "274640      40000   1344000.0               Vice President      5.32   3.52   \n",
       "118450      40000   1250000.0                airline pilot      7.07   4.98   \n",
       "118270      40000   1500000.0            Managing Director      5.32  13.71   \n",
       "117550      40000   1400000.0             Director of Engg      5.32   5.06   \n",
       "118047      40000   1200000.0                    President      7.07  11.44   \n",
       "117933      40000   1200000.0                Aircraft Tech      7.97   0.84   \n",
       "117776      40000   3320000.0    Director, Talent Advisory      7.21   0.71   \n",
       "412035      40000   1200000.0                        Pilot     11.49   0.75   \n",
       "127218      40000   1500000.0            Managing Director     12.62   4.29   \n",
       "286120      40000   1300000.0            Managing Director     12.62   3.48   \n",
       "307804      40000   1800000.0                    CEO Cards      7.24   4.53   \n",
       "413185      40000   1200000.0          Sr. Vice President       7.99   2.64   \n",
       "114863      40000   1428000.0                    President      7.35   7.22   \n",
       "356473      40000   1100000.0              Vice President       5.32   4.89   \n",
       "115328      40000   4255262.0                 Investigator      9.93   0.44   \n",
       "116050      40000   1508000.0                    President      7.97   5.49   \n",
       "223858      40000   2000000.0     Senior Managing Director     14.08   0.45   \n",
       "117179      40000   2200000.0                    President      9.44   2.72   \n",
       "\n",
       "       grade  \n",
       "135164     B  \n",
       "350504     B  \n",
       "123842     B  \n",
       "344971     C  \n",
       "6905       D  \n",
       "168893     B  \n",
       "138034     A  \n",
       "390343     B  \n",
       "15279      D  \n",
       "16230      D  \n",
       "129491     D  \n",
       "27676      D  \n",
       "335098     B  \n",
       "28021      D  \n",
       "29041      A  \n",
       "32766      B  \n",
       "40256      A  \n",
       "39803      A  \n",
       "46152      B  \n",
       "42548      D  \n",
       "365149     B  \n",
       "245076     D  \n",
       "41039      B  \n",
       "371943     C  \n",
       "434811     C  \n",
       "258477     E  \n",
       "70408      D  \n",
       "415812     B  \n",
       "280508     C  \n",
       "342449     C  \n",
       "...      ...  \n",
       "111070     C  \n",
       "112459     D  \n",
       "111473     B  \n",
       "109666     A  \n",
       "112090     A  \n",
       "112639     C  \n",
       "390658     A  \n",
       "180473     C  \n",
       "111655     B  \n",
       "279928     A  \n",
       "114498     C  \n",
       "198470     C  \n",
       "274640     A  \n",
       "118450     A  \n",
       "118270     A  \n",
       "117550     A  \n",
       "118047     A  \n",
       "117933     A  \n",
       "117776     A  \n",
       "412035     B  \n",
       "127218     C  \n",
       "286120     C  \n",
       "307804     A  \n",
       "413185     A  \n",
       "114863     A  \n",
       "356473     A  \n",
       "115328     B  \n",
       "116050     A  \n",
       "223858     C  \n",
       "117179     B  \n",
       "\n",
       "[104 rows x 6 columns]"
      ]
     },
     "execution_count": 631,
     "metadata": {},
     "output_type": "execute_result"
    }
   ],
   "source": [
    "outliers[['loan_amnt','annual_inc','emp_title','int_rate','dti','grade']]"
   ]
  },
  {
   "cell_type": "markdown",
   "metadata": {},
   "source": [
    "\n",
    "# Future Problem Statement"
   ]
  },
  {
   "cell_type": "markdown",
   "metadata": {},
   "source": [
    "#### Problem 1:\n",
    "#### Finding out if a particular loan will default or not, and also the interest rate that it will be given out on.\n",
    "> This is a prediction problem, that can be figured out once we have a clean set of data, and we get rid of any outliers present."
   ]
  },
  {
   "cell_type": "markdown",
   "metadata": {},
   "source": [
    "##### How to implement solution to this problem?\n",
    "- Dimension Reduction\n",
    "  * (Finding highly correlated variables)\n",
    "  * (Use Lasso for regularization and dimension reduction)\n",
    "- Implement Extreme Gradient Boosting Algorithm for regression to predict the values.\n",
    "  * (Use Information Matrix to find the variables with the highest Information Gain)\n",
    "\n",
    "###### Parameter Tuning, Variable Selection from these two methods to get a more accurate and a more regularized model."
   ]
  },
  {
   "cell_type": "markdown",
   "metadata": {},
   "source": [
    "#### Problem 2:\n",
    "#### Have a Loan Scoring Algorithm\n",
    "> One of the things , we found out was that even Lending Club's algorithms failed to predict in some cases if the loans should have been given out or not.\n",
    "We have, all the necessary data from debt to income ratio, revolving utilization, income, total number of inquiries, total debt the person owes. All of these are some of the most important attributes that we can use to create a score and set a threshold (anything less than that threshold and the loan will default).\n",
    "\n",
    "###### Credit Scoring [https://www.investopedia.com/terms/c/credit_score.asp]"
   ]
  }
 ],
 "metadata": {
  "kernelspec": {
   "display_name": "Python 3",
   "language": "python",
   "name": "python3"
  },
  "language_info": {
   "codemirror_mode": {
    "name": "ipython",
    "version": 3
   },
   "file_extension": ".py",
   "mimetype": "text/x-python",
   "name": "python",
   "nbconvert_exporter": "python",
   "pygments_lexer": "ipython3",
   "version": "3.6.3"
  }
 },
 "nbformat": 4,
 "nbformat_minor": 2
}
