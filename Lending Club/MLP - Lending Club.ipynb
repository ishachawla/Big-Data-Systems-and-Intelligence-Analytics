{
 "cells": [
  {
   "cell_type": "markdown",
   "metadata": {},
   "source": [
    "# <center> Lending Club Classification - Keras </center>"
   ]
  },
  {
   "cell_type": "markdown",
   "metadata": {},
   "source": [
    "### What are feed-forward neural networks?"
   ]
  },
  {
   "cell_type": "markdown",
   "metadata": {},
   "source": [
    "*Neural Networks are made of these basic elements known as **Neurons** which work excatly like a brain does. A Neural Network is made up of multiple neurons combined together. They get data either from the source or from other neurons.*\n",
    "*Neural Networks can be divided in 2 basic types:*\n",
    "1. *Single Layer Perceptron: These Neural Networks have one input, one hidden and one output layer.*\n",
    "2. *Multi Layer Percepton: These Neural Networks have multiple input layers.*\n",
    "> *Want to know more about Neural Networks: <a> https://towardsdatascience.com/deep-learning-feedforward-neural-network-26a6705dbdc7 </a> *"
   ]
  },
  {
   "cell_type": "markdown",
   "metadata": {},
   "source": [
    "![NN](https://www.researchgate.net/profile/Ramon_Quiza/publication/234055177/figure/fig1/AS:300092981563410@1448559150651/Sample-of-a-feed-forward-neural-network.png)"
   ]
  },
  {
   "cell_type": "code",
   "execution_count": 2,
   "metadata": {},
   "outputs": [],
   "source": [
    "import pandas as pd\n",
    "import os\n",
    "import pandas_ml"
   ]
  },
  {
   "cell_type": "code",
   "execution_count": 19,
   "metadata": {},
   "outputs": [],
   "source": [
    "import numpy as np\n",
    "import seaborn as sb\n",
    "import matplotlib.pyplot as plt\n",
    "from sklearn import preprocessing\n",
    "from sklearn.cross_validation import train_test_split\n",
    "from sklearn.model_selection import StratifiedKFold"
   ]
  },
  {
   "cell_type": "markdown",
   "metadata": {},
   "source": [
    "*Reading the cleaned csv file.*"
   ]
  },
  {
   "cell_type": "code",
   "execution_count": 4,
   "metadata": {},
   "outputs": [],
   "source": [
    "current_path=os.getcwd()"
   ]
  },
  {
   "cell_type": "code",
   "execution_count": 5,
   "metadata": {},
   "outputs": [],
   "source": [
    "os.chdir(current_path+\"//Lending Club\")"
   ]
  },
  {
   "cell_type": "code",
   "execution_count": 6,
   "metadata": {},
   "outputs": [],
   "source": [
    "df_new=pd.read_csv(\"Cleaned_Loan_Data.csv\",index_col=False)"
   ]
  },
  {
   "cell_type": "markdown",
   "metadata": {},
   "source": [
    "*We try and use a **Neural Network** for this problem and the library we use to make this work is **Keras**. *\n"
   ]
  },
  {
   "cell_type": "markdown",
   "metadata": {},
   "source": [
    "**installing keras**\n",
    ">**For installing Keras, we first need Tensorflow.**\n"
   ]
  },
  {
   "cell_type": "markdown",
   "metadata": {},
   "source": [
    "**Tensorflow**\n",
    ">**pip install tensorflow**\n",
    ">**Tensor flow needs to be installed on an environment**"
   ]
  },
  {
   "cell_type": "markdown",
   "metadata": {},
   "source": [
    "**Creating an environment in Tensorflow:**\n",
    ">**conda create -n tensorflow pip python=3.5 **\n",
    ">**activate tensorflow**\n",
    ">### *pip install keras*\n",
    "><a> https://www.tensorflow.org/install/install_windows </a>"
   ]
  },
  {
   "cell_type": "markdown",
   "metadata": {},
   "source": [
    "*We import the files from Keras which uses a Tensorflow backgroud.*"
   ]
  },
  {
   "cell_type": "code",
   "execution_count": 7,
   "metadata": {},
   "outputs": [
    {
     "name": "stderr",
     "output_type": "stream",
     "text": [
      "Using TensorFlow backend.\n"
     ]
    }
   ],
   "source": [
    "from keras.models import Sequential\n",
    "from keras.layers import Dense, Dropout"
   ]
  },
  {
   "cell_type": "code",
   "execution_count": 9,
   "metadata": {},
   "outputs": [],
   "source": [
    "df_new[\"loan_status\"]=df_new['loan_status'].map({'Default': 0, 'Fully Paid': 1})"
   ]
  },
  {
   "cell_type": "code",
   "execution_count": 10,
   "metadata": {},
   "outputs": [],
   "source": [
    "cols=['tot_cur_bal',\n",
    "      'loan_amnt',\n",
    " 'chargeoff_within_12_mths',\n",
    " 'pub_rec_bankruptcies',\n",
    " 'revol_util',\n",
    " 'open_acc',\n",
    " 'num_bc_tl',\n",
    " 'num_il_tl',\n",
    " 'num_rev_accts',\n",
    " 'inq_last_12m',\n",
    " 'mo_sin_old_rev_tl_op',\n",
    " 'mths_since_recent_bc',\n",
    " 'dti']"
   ]
  },
  {
   "cell_type": "code",
   "execution_count": 12,
   "metadata": {},
   "outputs": [],
   "source": [
    "x=df_new[cols]\n",
    "y=df_new['loan_status']"
   ]
  },
  {
   "cell_type": "markdown",
   "metadata": {},
   "source": [
    "*Normalizing the data using **sklearn.preprocessing**.*Transforms features by scaling each feature to a given range.\n",
    "\n",
    "*This estimator scales and translates each feature individually such that it is in the given range on the training set, i.e. between zero and one.*\n",
    "<a> http://scikit-learn.org/stable/modules/generated/sklearn.preprocessing.MinMaxScaler.html </a>"
   ]
  },
  {
   "cell_type": "code",
   "execution_count": 13,
   "metadata": {},
   "outputs": [],
   "source": [
    "min_max_scaler = preprocessing.MinMaxScaler()\n",
    "np_scaled = min_max_scaler.fit_transform(x)\n",
    "df_normalized = pd.DataFrame(np_scaled,columns=x.columns)"
   ]
  },
  {
   "cell_type": "markdown",
   "metadata": {},
   "source": [
    "*Doing a **80-20** split on the dataset.*"
   ]
  },
  {
   "cell_type": "code",
   "execution_count": 14,
   "metadata": {},
   "outputs": [],
   "source": [
    "x_train,x_test,y_train,y_test=train_test_split(df_normalized,y,train_size=0.80,random_state=1)"
   ]
  },
  {
   "cell_type": "code",
   "execution_count": 15,
   "metadata": {},
   "outputs": [
    {
     "data": {
      "text/plain": [
       "(54484, 13)"
      ]
     },
     "execution_count": 15,
     "metadata": {},
     "output_type": "execute_result"
    }
   ],
   "source": [
    "x_train.shape"
   ]
  },
  {
   "cell_type": "code",
   "execution_count": 112,
   "metadata": {},
   "outputs": [],
   "source": [
    "def plotAUC(truth, pred):\n",
    "    plt.figure(figsize=(7,5))\n",
    "    sb.set_style(\"darkgrid\")\n",
    "    fpr, tpr, _ = roc_curve(truth,pred)\n",
    "    roc_auc = roc_auc_score(truth,pred)\n",
    "    plt.plot(fpr, tpr, color= \"Blue\",lw=2,marker=\"h\", label= '(AUC = %0.2f)' % roc_auc)\n",
    "    plt.plot([0, 1], [0, 1], color=\"#3498DB\", lw=3, linestyle='--')\n",
    "    plt.xlim([0.0, 1.0])\n",
    "    plt.ylim([0.0, 1.0])\n",
    "    plt.xlabel('False Positive Rate')\n",
    "    plt.ylabel('True Positive Rate')\n",
    "    plt.title('ROC curve')\n",
    "    plt.legend(loc=\"lower right\")"
   ]
  },
  {
   "cell_type": "markdown",
   "metadata": {},
   "source": [
    "## Model 1 for Binary Classification using Keras"
   ]
  },
  {
   "cell_type": "markdown",
   "metadata": {},
   "source": [
    "*Sequential model is a stack of layers.New layers can be simply added using the **.add** method.*"
   ]
  },
  {
   "cell_type": "markdown",
   "metadata": {},
   "source": [
    "<a>https://keras.io/getting-started/sequential-model-guide/</a>"
   ]
  },
  {
   "cell_type": "markdown",
   "metadata": {},
   "source": [
    "**Hyperparameters in Neural Networks.:**\n",
    "1. *Activation Function: tanh,sigmoid, reLu*\n",
    "2. *Kernel Initialization: random normal, glorot-uniform, 1s, 0s, None*\n",
    "3. *Adding a regularization layer- Dropout*\n",
    "4. *Optimizer- adam, adamax, SGD*\n",
    "5. *Epochs- number of iterations*\n",
    "6. *Batch-size- number of rows being trained at one time*\n",
    "7. *Loss- binary-crossentropy, categorical-crossentropy, sparse-categoricalcrossentropy*\n"
   ]
  },
  {
   "cell_type": "markdown",
   "metadata": {},
   "source": [
    "*Note- I have just mentioned some parameters that are in the scope of this code.*"
   ]
  },
  {
   "cell_type": "markdown",
   "metadata": {},
   "source": [
    "**Binary Classification using Feed Forward Neural Network - Keras **"
   ]
  },
  {
   "cell_type": "markdown",
   "metadata": {},
   "source": [
    "*Keras works by having mutiple layers, activation functions and loss- which in this case is binary-crossentropy because as we mentioned it is a binary classification problem (either it will be fully paid or not).*"
   ]
  },
  {
   "cell_type": "code",
   "execution_count": 92,
   "metadata": {},
   "outputs": [],
   "source": [
    "model=Sequential()\n",
    "model.add(Dense(20, input_dim=13,activation='relu'))\n",
    "model.add(Dense(1,activation='tanh'))\n",
    "model.compile(loss='binary_crossentropy', optimizer='adam', metrics=['accuracy'])"
   ]
  },
  {
   "cell_type": "markdown",
   "metadata": {},
   "source": [
    "*Model runs for 10 iterations*"
   ]
  },
  {
   "cell_type": "code",
   "execution_count": 93,
   "metadata": {},
   "outputs": [
    {
     "name": "stdout",
     "output_type": "stream",
     "text": [
      "Train on 54484 samples, validate on 13621 samples\n",
      "Epoch 1/10\n",
      "54484/54484 [==============================] - 3s 62us/step - loss: 0.7279 - acc: 0.6485 - val_loss: 0.5978 - val_acc: 0.6968\n",
      "Epoch 2/10\n",
      "54484/54484 [==============================] - 3s 54us/step - loss: 0.5913 - acc: 0.6984 - val_loss: 0.5877 - val_acc: 0.6986\n",
      "Epoch 3/10\n",
      "54484/54484 [==============================] - 3s 53us/step - loss: 0.5851 - acc: 0.6992 - val_loss: 0.5848 - val_acc: 0.6989\n",
      "Epoch 4/10\n",
      "54484/54484 [==============================] - 3s 53us/step - loss: 0.5829 - acc: 0.6992 - val_loss: 0.5831 - val_acc: 0.6997\n",
      "Epoch 5/10\n",
      "54484/54484 [==============================] - 3s 52us/step - loss: 0.5815 - acc: 0.6998 - val_loss: 0.5813 - val_acc: 0.7003\n",
      "Epoch 6/10\n",
      "54484/54484 [==============================] - 3s 51us/step - loss: 0.5808 - acc: 0.7002 - val_loss: 0.5809 - val_acc: 0.6989\n",
      "Epoch 7/10\n",
      "54484/54484 [==============================] - 3s 54us/step - loss: 0.5801 - acc: 0.6995 - val_loss: 0.5815 - val_acc: 0.6979\n",
      "Epoch 8/10\n",
      "54484/54484 [==============================] - 3s 52us/step - loss: 0.5793 - acc: 0.7017 - val_loss: 0.5795 - val_acc: 0.6991\n",
      "Epoch 9/10\n",
      "54484/54484 [==============================] - 3s 51us/step - loss: 0.5785 - acc: 0.7012 - val_loss: 0.5788 - val_acc: 0.6991\n",
      "Epoch 10/10\n",
      "54484/54484 [==============================] - 3s 52us/step - loss: 0.5781 - acc: 0.7006 - val_loss: 0.5798 - val_acc: 0.6986\n"
     ]
    }
   ],
   "source": [
    "m1=model.fit(x_train, y_train, epochs=10, batch_size=50,validation_data=(x_test, y_test))"
   ]
  },
  {
   "cell_type": "markdown",
   "metadata": {},
   "source": [
    "**We can see that we get an accuracy of around 70% in our validation dataset which is pretty good.**"
   ]
  },
  {
   "cell_type": "markdown",
   "metadata": {},
   "source": [
    "**Keras model can be saved and used later.They also have an interesting feature called *history* which can be used to get accuracy and loss of the model and the train and validation set *over every iteration*.**"
   ]
  },
  {
   "cell_type": "markdown",
   "metadata": {},
   "source": [
    "*Graph showing an accuracy comparison between train and validation data set.*"
   ]
  },
  {
   "cell_type": "code",
   "execution_count": 94,
   "metadata": {
    "scrolled": true
   },
   "outputs": [
    {
     "data": {
      "image/png": "[encoded data removed]",
      "text/plain": [
       "<Figure size 576x432 with 1 Axes>"
      ]
     },
     "metadata": {},
     "output_type": "display_data"
    }
   ],
   "source": [
    "plt.figure(figsize=(8,6))\n",
    "plt.plot(m1.history['acc'],lw=2,color=\"Blue\",marker='o')\n",
    "plt.plot(m1.history['val_acc'],lw=2,color=\"Red\",marker='p')\n",
    "plt.title('Accuracy comparison between Validation and Train Data set')\n",
    "plt.ylabel('Accuracy')\n",
    "plt.xlabel('Epoch')\n",
    "plt.legend(['Train', 'Test'], loc='lower right')\n",
    "plt.show()"
   ]
  },
  {
   "cell_type": "markdown",
   "metadata": {},
   "source": [
    "*Comparison between Loss of Train and Test Data Set*"
   ]
  },
  {
   "cell_type": "code",
   "execution_count": 95,
   "metadata": {},
   "outputs": [
    {
     "data": {
      "image/png": "[encoded data removed]",
      "text/plain": [
       "<Figure size 576x432 with 1 Axes>"
      ]
     },
     "metadata": {},
     "output_type": "display_data"
    }
   ],
   "source": [
    "plt.figure(figsize=(8,6))\n",
    "plt.plot(m1.history['loss'],lw=2,color=\"Blue\",marker='o')\n",
    "plt.plot(m1.history['val_loss'],lw=2,color=\"Red\",marker='p')\n",
    "plt.title('Loss comparison between Validation and Train Data set')\n",
    "plt.ylabel('Accuracy')\n",
    "plt.xlabel('Epoch')\n",
    "plt.legend(['Train', 'Test'], loc='best')\n",
    "plt.show()"
   ]
  },
  {
   "cell_type": "markdown",
   "metadata": {},
   "source": [
    "**model.summary()** *function in Keras gives us a detailed structure of the input and ouput layers of the model.*"
   ]
  },
  {
   "cell_type": "code",
   "execution_count": 96,
   "metadata": {},
   "outputs": [
    {
     "name": "stdout",
     "output_type": "stream",
     "text": [
      "_________________________________________________________________\n",
      "Layer (type)                 Output Shape              Param #   \n",
      "=================================================================\n",
      "dense_24 (Dense)             (None, 20)                280       \n",
      "_________________________________________________________________\n",
      "dense_25 (Dense)             (None, 1)                 21        \n",
      "=================================================================\n",
      "Total params: 301\n",
      "Trainable params: 301\n",
      "Non-trainable params: 0\n",
      "_________________________________________________________________\n"
     ]
    }
   ],
   "source": [
    "model.summary()"
   ]
  },
  {
   "cell_type": "markdown",
   "metadata": {},
   "source": [
    "*Checking the configuration of the model.This model can be reinstantiated using the **model.from_config()** command.*"
   ]
  },
  {
   "cell_type": "code",
   "execution_count": 97,
   "metadata": {},
   "outputs": [
    {
     "data": {
      "text/plain": [
       "[{'class_name': 'Dense',\n",
       "  'config': {'activation': 'relu',\n",
       "   'activity_regularizer': None,\n",
       "   'batch_input_shape': (None, 13),\n",
       "   'bias_constraint': None,\n",
       "   'bias_initializer': {'class_name': 'Zeros', 'config': {}},\n",
       "   'bias_regularizer': None,\n",
       "   'dtype': 'float32',\n",
       "   'kernel_constraint': None,\n",
       "   'kernel_initializer': {'class_name': 'VarianceScaling',\n",
       "    'config': {'distribution': 'uniform',\n",
       "     'mode': 'fan_avg',\n",
       "     'scale': 1.0,\n",
       "     'seed': None}},\n",
       "   'kernel_regularizer': None,\n",
       "   'name': 'dense_24',\n",
       "   'trainable': True,\n",
       "   'units': 20,\n",
       "   'use_bias': True}},\n",
       " {'class_name': 'Dense',\n",
       "  'config': {'activation': 'tanh',\n",
       "   'activity_regularizer': None,\n",
       "   'bias_constraint': None,\n",
       "   'bias_initializer': {'class_name': 'Zeros', 'config': {}},\n",
       "   'bias_regularizer': None,\n",
       "   'kernel_constraint': None,\n",
       "   'kernel_initializer': {'class_name': 'VarianceScaling',\n",
       "    'config': {'distribution': 'uniform',\n",
       "     'mode': 'fan_avg',\n",
       "     'scale': 1.0,\n",
       "     'seed': None}},\n",
       "   'kernel_regularizer': None,\n",
       "   'name': 'dense_25',\n",
       "   'trainable': True,\n",
       "   'units': 1,\n",
       "   'use_bias': True}}]"
      ]
     },
     "execution_count": 97,
     "metadata": {},
     "output_type": "execute_result"
    }
   ],
   "source": [
    "model.get_config()"
   ]
  },
  {
   "cell_type": "code",
   "execution_count": 99,
   "metadata": {},
   "outputs": [
    {
     "name": "stdout",
     "output_type": "stream",
     "text": [
      "13621/13621 [==============================] - 0s 21us/step\n"
     ]
    },
    {
     "data": {
      "text/plain": [
       "[0.5798349599640115, 0.6985537080886947]"
      ]
     },
     "execution_count": 99,
     "metadata": {},
     "output_type": "execute_result"
    }
   ],
   "source": [
    "model.evaluate(x_test, y_test,batch_size=50)"
   ]
  },
  {
   "cell_type": "markdown",
   "metadata": {},
   "source": [
    "*Predicting values using the model. In this case like XGBoost we get probabilities and we divide them the same way.*\n",
    "* *Probability with a value of less than 0.5 will default.*\n",
    "* *Probability with a value greater than 0.5 will not default.*"
   ]
  },
  {
   "cell_type": "code",
   "execution_count": 26,
   "metadata": {},
   "outputs": [],
   "source": [
    "keras_pred1=model.predict(np.array(x_test))\n",
    "keras_pred1[keras_pred1<=0.5]=0\n",
    "keras_pred1[keras_pred1>0.5]=1"
   ]
  },
  {
   "cell_type": "markdown",
   "metadata": {},
   "source": [
    "*Using confusion matrix from **sklearn.metrics** and **pandas_ml** to evaluate the model.*"
   ]
  },
  {
   "cell_type": "code",
   "execution_count": 28,
   "metadata": {},
   "outputs": [],
   "source": [
    "from pandas_ml import ConfusionMatrix\n",
    "from sklearn import metrics\n",
    "from sklearn.metrics import confusion_matrix"
   ]
  },
  {
   "cell_type": "code",
   "execution_count": 100,
   "metadata": {},
   "outputs": [],
   "source": [
    "pred=pd.DataFrame(keras_pred1)\n",
    "pred.rename(columns={0: 'Predicted'},inplace=True)"
   ]
  },
  {
   "cell_type": "code",
   "execution_count": 101,
   "metadata": {},
   "outputs": [
    {
     "data": {
      "text/plain": [
       "array([1., 1., 1., ..., 1., 1., 1.], dtype=float32)"
      ]
     },
     "execution_count": 101,
     "metadata": {},
     "output_type": "execute_result"
    }
   ],
   "source": [
    "np.array(pred[\"Predicted\"])"
   ]
  },
  {
   "cell_type": "code",
   "execution_count": 110,
   "metadata": {},
   "outputs": [
    {
     "name": "stdout",
     "output_type": "stream",
     "text": [
      "      0     1\n",
      "0   310   268\n",
      "1  3842  9201\n",
      "Loans missclassified as Fully Paid when they should have actually defaulted 3842\n",
      "Percent of loans missclassified 28.206445929080097\n"
     ]
    }
   ],
   "source": [
    "nn_conf=pd.DataFrame(confusion_matrix(pred[\"Predicted\"],y_test))\n",
    "print(nn_conf)\n",
    "print(\"Loans missclassified as Fully Paid when they should have actually defaulted\",nn_conf[0][1])\n",
    "print(\"Percent of loans missclassified\",(float(nn_conf[0][1])/float(x_test.shape[0]))*100)"
   ]
  },
  {
   "cell_type": "code",
   "execution_count": 103,
   "metadata": {},
   "outputs": [
    {
     "name": "stdout",
     "output_type": "stream",
     "text": [
      "Accuracy of the model is : 69.82600396446664\n"
     ]
    }
   ],
   "source": [
    "print(\"Accuracy of the model is :\",((np.array(pred[\"Predicted\"])==y_test).mean())*100)"
   ]
  },
  {
   "cell_type": "markdown",
   "metadata": {},
   "source": [
    "*We compare the accuracy of the model which is 69% and it misclassified 28% loans as Fully Paid when they should have been default.*"
   ]
  },
  {
   "cell_type": "code",
   "execution_count": 104,
   "metadata": {},
   "outputs": [
    {
     "name": "stdout",
     "output_type": "stream",
     "text": [
      "Predicted  False   True  __all__\n",
      "Actual                          \n",
      "False        310   3842     4152\n",
      "True         268   9201     9469\n",
      "__all__      578  13043    13621\n",
      "population: 13621\n",
      "P: 9469\n",
      "N: 4152\n",
      "PositiveTest: 13043\n",
      "NegativeTest: 578\n",
      "TP: 9201\n",
      "TN: 310\n",
      "FP: 3842\n",
      "FN: 268\n",
      "TPR: 0.9716971169078044\n",
      "TNR: 0.07466281310211946\n",
      "PPV: 0.7054358659817527\n",
      "NPV: 0.5363321799307958\n",
      "FPR: 0.9253371868978806\n",
      "FDR: 0.2945641340182473\n",
      "FNR: 0.028302883092195585\n",
      "ACC: 0.6982600396446663\n",
      "F1_score: 0.8174307036247335\n",
      "MCC: 0.10586949365677446\n",
      "informedness: 0.04635993000992378\n",
      "markedness: 0.2417680459125484\n",
      "prevalence: 0.6951765655972395\n",
      "LRP: 1.0501005802710055\n",
      "LRN: 0.37907603418966473\n",
      "DOR: 2.770158188754302\n",
      "FOR: 0.46366782006920415\n",
      "None\n"
     ]
    },
    {
     "data": {
      "text/plain": [
       "<matplotlib.axes._subplots.AxesSubplot at 0x1bd6d5a3630>"
      ]
     },
     "execution_count": 104,
     "metadata": {},
     "output_type": "execute_result"
    },
    {
     "data": {
      "image/png": "[encoded data removed]",
      "text/plain": [
       "<Figure size 648x576 with 2 Axes>"
      ]
     },
     "metadata": {},
     "output_type": "display_data"
    }
   ],
   "source": [
    "cm=ConfusionMatrix(np.array(y_test),np.array(pred[\"Predicted\"]))\n",
    "print(cm)\n",
    "print(cm.print_stats())\n",
    "cm.plot()"
   ]
  },
  {
   "cell_type": "code",
   "execution_count": 111,
   "metadata": {},
   "outputs": [],
   "source": [
    "from sklearn.metrics import roc_curve\n",
    "from sklearn.metrics import roc_auc_score"
   ]
  },
  {
   "cell_type": "markdown",
   "metadata": {},
   "source": [
    "*Area Under the curve for the Feed Forward Neural Net is **62%**.*"
   ]
  },
  {
   "cell_type": "code",
   "execution_count": 113,
   "metadata": {},
   "outputs": [
    {
     "data": {
      "image/png": "[encoded data removed]",
      "text/plain": [
       "<Figure size 504x360 with 1 Axes>"
      ]
     },
     "metadata": {},
     "output_type": "display_data"
    }
   ],
   "source": [
    "plotAUC(pred[\"Predicted\"],y_test)"
   ]
  },
  {
   "cell_type": "markdown",
   "metadata": {},
   "source": [
    "## Model 2- Feedforward Multi Layer Perceptron"
   ]
  },
  {
   "cell_type": "code",
   "execution_count": 115,
   "metadata": {},
   "outputs": [],
   "source": [
    "import keras"
   ]
  },
  {
   "cell_type": "markdown",
   "metadata": {},
   "source": [
    "*We use the **Adam** optimizer with a learning rate of 0.0001 which is considerably low and to compensate this, we will increase the number of iterations when we fit the mode. Since we have 3 layers in our model and we want to ensure it does not overfit, we  add a **dropout** layer which is basically a regularization layer to avoid over-fitting.*"
   ]
  },
  {
   "cell_type": "markdown",
   "metadata": {},
   "source": [
    "**<a>https://keras.io/optimizers/</a>**"
   ]
  },
  {
   "cell_type": "code",
   "execution_count": 116,
   "metadata": {},
   "outputs": [],
   "source": [
    "opt=keras.optimizers.Adam(lr=0.0001)"
   ]
  },
  {
   "cell_type": "code",
   "execution_count": 117,
   "metadata": {},
   "outputs": [],
   "source": [
    "model2=Sequential()\n",
    "model2.add(Dense(20,kernel_initializer='random_normal', input_dim=13,activation='tanh'))\n",
    "model2.add(Dropout(0.5))\n",
    "model2.add(Dense(7, activation='tanh',kernel_initializer='random_normal'))\n",
    "model2.add(Dense(1,activation='tanh'))\n",
    "model2.compile(loss='binary_crossentropy', optimizer=opt, metrics=['accuracy'])"
   ]
  },
  {
   "cell_type": "code",
   "execution_count": 118,
   "metadata": {},
   "outputs": [
    {
     "name": "stdout",
     "output_type": "stream",
     "text": [
      "Train on 54484 samples, validate on 13621 samples\n",
      "Epoch 1/25\n",
      "54484/54484 [==============================] - 4s 68us/step - loss: 2.5487 - acc: 0.3020 - val_loss: 1.7939 - val_acc: 0.3048\n",
      "Epoch 2/25\n",
      "54484/54484 [==============================] - 3s 56us/step - loss: 1.4706 - acc: 0.3020 - val_loss: 1.1335 - val_acc: 0.3048\n",
      "Epoch 3/25\n",
      "54484/54484 [==============================] - 4s 65us/step - loss: 0.9597 - acc: 0.3328 - val_loss: 0.7605 - val_acc: 0.3535\n",
      "Epoch 4/25\n",
      "54484/54484 [==============================] - 3s 58us/step - loss: 0.7420 - acc: 0.5141 - val_loss: 0.6514 - val_acc: 0.6598\n",
      "Epoch 5/25\n",
      "54484/54484 [==============================] - 3s 51us/step - loss: 0.6883 - acc: 0.6071 - val_loss: 0.6364 - val_acc: 0.6910\n",
      "Epoch 6/25\n",
      "54484/54484 [==============================] - 3s 52us/step - loss: 0.6741 - acc: 0.6335 - val_loss: 0.6328 - val_acc: 0.6932\n",
      "Epoch 7/25\n",
      "54484/54484 [==============================] - 3s 49us/step - loss: 0.6625 - acc: 0.6470 - val_loss: 0.6285 - val_acc: 0.6946\n",
      "Epoch 8/25\n",
      "54484/54484 [==============================] - 3s 52us/step - loss: 0.6529 - acc: 0.6581 - val_loss: 0.6230 - val_acc: 0.6952\n",
      "Epoch 9/25\n",
      "54484/54484 [==============================] - 3s 49us/step - loss: 0.6421 - acc: 0.6668 - val_loss: 0.6165 - val_acc: 0.6952\n",
      "Epoch 10/25\n",
      "54484/54484 [==============================] - 3s 49us/step - loss: 0.6339 - acc: 0.6762 - val_loss: 0.6097 - val_acc: 0.6951\n",
      "Epoch 11/25\n",
      "54484/54484 [==============================] - 3s 48us/step - loss: 0.6227 - acc: 0.6845 - val_loss: 0.6035 - val_acc: 0.6954\n",
      "Epoch 12/25\n",
      "54484/54484 [==============================] - 3s 49us/step - loss: 0.6133 - acc: 0.6904 - val_loss: 0.5985 - val_acc: 0.6956\n",
      "Epoch 13/25\n",
      "54484/54484 [==============================] - 3s 52us/step - loss: 0.6061 - acc: 0.6942 - val_loss: 0.5953 - val_acc: 0.6958\n",
      "Epoch 14/25\n",
      "54484/54484 [==============================] - 3s 48us/step - loss: 0.6000 - acc: 0.6968 - val_loss: 0.5931 - val_acc: 0.6966\n",
      "Epoch 15/25\n",
      "54484/54484 [==============================] - 3s 49us/step - loss: 0.5988 - acc: 0.6966 - val_loss: 0.5926 - val_acc: 0.6961\n",
      "Epoch 16/25\n",
      "54484/54484 [==============================] - 3s 49us/step - loss: 0.5960 - acc: 0.6968 - val_loss: 0.5916 - val_acc: 0.6966\n",
      "Epoch 17/25\n",
      "54484/54484 [==============================] - 3s 49us/step - loss: 0.5939 - acc: 0.6984 - val_loss: 0.5906 - val_acc: 0.6985\n",
      "Epoch 18/25\n",
      "54484/54484 [==============================] - 3s 48us/step - loss: 0.5923 - acc: 0.6988 - val_loss: 0.5902 - val_acc: 0.6987\n",
      "Epoch 19/25\n",
      "54484/54484 [==============================] - 3s 57us/step - loss: 0.5923 - acc: 0.6973 - val_loss: 0.5899 - val_acc: 0.6994\n",
      "Epoch 20/25\n",
      "54484/54484 [==============================] - 3s 50us/step - loss: 0.5922 - acc: 0.6990 - val_loss: 0.5896 - val_acc: 0.6999\n",
      "Epoch 21/25\n",
      "54484/54484 [==============================] - 3s 48us/step - loss: 0.5904 - acc: 0.6984 - val_loss: 0.5894 - val_acc: 0.7000\n",
      "Epoch 22/25\n",
      "54484/54484 [==============================] - 3s 52us/step - loss: 0.5907 - acc: 0.6990 - val_loss: 0.5890 - val_acc: 0.6982\n",
      "Epoch 23/25\n",
      "54484/54484 [==============================] - 3s 56us/step - loss: 0.5901 - acc: 0.6984 - val_loss: 0.5890 - val_acc: 0.7007\n",
      "Epoch 24/25\n",
      "54484/54484 [==============================] - 3s 53us/step - loss: 0.5896 - acc: 0.6985 - val_loss: 0.5887 - val_acc: 0.7005\n",
      "Epoch 25/25\n",
      "54484/54484 [==============================] - 3s 54us/step - loss: 0.5894 - acc: 0.6984 - val_loss: 0.5884 - val_acc: 0.7005\n"
     ]
    }
   ],
   "source": [
    "m2=model2.fit(x_train, y_train, epochs=25, batch_size=50,validation_data=(x_test, y_test))"
   ]
  },
  {
   "cell_type": "markdown",
   "metadata": {},
   "source": [
    "*Using the **history** feature of the keras model to get accuracy over every iteration on the train and validation data set.*"
   ]
  },
  {
   "cell_type": "code",
   "execution_count": 121,
   "metadata": {},
   "outputs": [
    {
     "data": {
      "image/png": "[encoded data removed]",
      "text/plain": [
       "<Figure size 864x576 with 1 Axes>"
      ]
     },
     "metadata": {},
     "output_type": "display_data"
    }
   ],
   "source": [
    "plt.figure(figsize=(12,8))\n",
    "plt.plot(m2.history['acc'],lw=2,color=\"Blue\",marker='o')\n",
    "plt.plot(m2.history['val_acc'],lw=2,color=\"Purple\",marker='p')\n",
    "plt.title('Accuracy comparison between Validation and Train Data set')\n",
    "plt.ylabel('Accuracy')\n",
    "plt.xlabel('Epoch')\n",
    "plt.legend(['Train', 'Test'], loc='lower right')\n",
    "plt.show()"
   ]
  },
  {
   "cell_type": "markdown",
   "metadata": {},
   "source": [
    "*Loss values plotted for train and validation data set*\n"
   ]
  },
  {
   "cell_type": "code",
   "execution_count": 124,
   "metadata": {},
   "outputs": [
    {
     "data": {
      "image/png": "[encoded data removed]",
      "text/plain": [
       "<Figure size 1296x576 with 1 Axes>"
      ]
     },
     "metadata": {},
     "output_type": "display_data"
    }
   ],
   "source": [
    "plt.figure(figsize=(18,8))\n",
    "plt.plot(m2.history['loss'],lw=2,color=\"Blue\",marker='o')\n",
    "plt.plot(m2.history['val_loss'],lw=2,color=\"Purple\",marker='p')\n",
    "plt.title('Loss comparison between Validation and Train Data set')\n",
    "plt.ylabel('Accuracy')\n",
    "plt.xlabel('Epoch')\n",
    "plt.legend(['Train', 'Test'], loc='best')\n",
    "plt.show()"
   ]
  },
  {
   "cell_type": "code",
   "execution_count": 125,
   "metadata": {},
   "outputs": [],
   "source": [
    "pred2=model2.predict(np.array(x_test))\n",
    "pred2[pred2<=0.5]=0\n",
    "pred2[pred2>0.5]=1"
   ]
  },
  {
   "cell_type": "code",
   "execution_count": 126,
   "metadata": {},
   "outputs": [],
   "source": [
    "k_pred=pd.DataFrame(pred2)\n",
    "k_pred.rename(columns={0: 'Predicted'},inplace=True)"
   ]
  },
  {
   "cell_type": "markdown",
   "metadata": {},
   "source": [
    "*We get an accuracy of **70%**, and we have misclassified around **28%** loans as default when they should have been fully paid, and the area under the curve is **64%**.*"
   ]
  },
  {
   "cell_type": "code",
   "execution_count": 139,
   "metadata": {},
   "outputs": [
    {
     "name": "stdout",
     "output_type": "stream",
     "text": [
      "      0     1\n",
      "0   273   201\n",
      "1  3879  9268\n",
      "Loans missclassified as Fully Paid when they should have actually defaulted 3879\n",
      "Percent of loans missclassified 28.478085309448648 %\n"
     ]
    }
   ],
   "source": [
    "nn_conf2=pd.DataFrame(confusion_matrix(k_pred[\"Predicted\"],y_test))\n",
    "print(nn_conf2)\n",
    "print(\"Loans missclassified as Fully Paid when they should have actually defaulted\",nn_conf2[0][1])\n",
    "print(\"Percent of loans missclassified\",(float(nn_conf2[0][1])/float(x_test.shape[0]))*100,\"%\")"
   ]
  },
  {
   "cell_type": "code",
   "execution_count": 138,
   "metadata": {},
   "outputs": [
    {
     "name": "stdout",
     "output_type": "stream",
     "text": [
      "The accuracy of this model is 70.04625211071141 %\n"
     ]
    }
   ],
   "source": [
    "print(\"The accuracy of this model is\",(np.array(k_pred[\"Predicted\"])==y_test).mean()*100,\"%\")"
   ]
  },
  {
   "cell_type": "code",
   "execution_count": 128,
   "metadata": {},
   "outputs": [
    {
     "data": {
      "image/png": "[encoded data removed]",
      "text/plain": [
       "<Figure size 504x360 with 1 Axes>"
      ]
     },
     "metadata": {},
     "output_type": "display_data"
    }
   ],
   "source": [
    "plotAUC(k_pred[\"Predicted\"],y_test)"
   ]
  },
  {
   "cell_type": "code",
   "execution_count": 141,
   "metadata": {},
   "outputs": [
    {
     "name": "stdout",
     "output_type": "stream",
     "text": [
      "_________________________________________________________________\n",
      "Layer (type)                 Output Shape              Param #   \n",
      "=================================================================\n",
      "dense_26 (Dense)             (None, 20)                280       \n",
      "_________________________________________________________________\n",
      "dropout_4 (Dropout)          (None, 20)                0         \n",
      "_________________________________________________________________\n",
      "dense_27 (Dense)             (None, 7)                 147       \n",
      "_________________________________________________________________\n",
      "dense_28 (Dense)             (None, 1)                 8         \n",
      "=================================================================\n",
      "Total params: 435\n",
      "Trainable params: 435\n",
      "Non-trainable params: 0\n",
      "_________________________________________________________________\n"
     ]
    }
   ],
   "source": [
    "model2.summary()"
   ]
  },
  {
   "cell_type": "markdown",
   "metadata": {},
   "source": [
    "# Results :"
   ]
  },
  {
   "cell_type": "markdown",
   "metadata": {},
   "source": [
    "**A comparison of all the models accuracy and the misclassification error(all the loans that were misclassified as Fully Paid when they should be default)**"
   ]
  },
  {
   "cell_type": "markdown",
   "metadata": {},
   "source": [
    "**The current algorithm right now misclassifies default loan 30% of the time, so our entire aim was to find a algorithm that does a better job than the current machine.**"
   ]
  },
  {
   "cell_type": "markdown",
   "metadata": {},
   "source": [
    "Model | Accuracy  | Missclassified Loans Percentage\n",
    "------- | -------------|--------------\n",
    "Decision Tree| 60% | 19%\n",
    "Random Forest | 66% | 20.85%\n",
    "Random Forest RandomizedSearchCV| 70% | 29%\n",
    "Random Forest GridSearchCV|  70.14 % | 28.58%\n",
    "XgBoost| 69.79% | 24.19%\n",
    "Neural Network with 1 layer | 69%| 28%\n",
    "Neural Network with multiple layers | 70.04% |28.47%"
   ]
  },
  {
   "cell_type": "markdown",
   "metadata": {},
   "source": [
    "**The highest accuracy we get is 70.14% from Random Forest GridSearchCV which can not be our ideal model for multiple reasons.**\n",
    "1. *It has a higher misclassification rate, thought it might be a difference of some decimal points but when there are say 10,000 people, just 1% accounts for 100 people(not to forget the amount of money you lose when you give out loans to that many people).*\n",
    "2. *GridSearchCV on Random forest takes longer than any algorith mentioned(MLP is faster than this).*"
   ]
  },
  {
   "cell_type": "markdown",
   "metadata": {},
   "source": [
    "**Our second option is MLP with multiple layers which gives us an accuracy of 70.04% and misclassifies 28.47% people in the wrong category, 28.47% is better than 30% which means that this algorithm does a better job than the current algorithm.**"
   ]
  },
  {
   "cell_type": "markdown",
   "metadata": {},
   "source": [
    "**This is the reason we decide to go with FeedForward Neural Network(MLP multiple layers) as the final model we use because of the high accuracy and less misclassification error.**"
   ]
  }
 ],
 "metadata": {
  "kernelspec": {
   "display_name": "Python 3",
   "language": "python",
   "name": "python3"
  },
  "language_info": {
   "codemirror_mode": {
    "name": "ipython",
    "version": 3
   },
   "file_extension": ".py",
   "mimetype": "text/x-python",
   "name": "python",
   "nbconvert_exporter": "python",
   "pygments_lexer": "ipython3",
   "version": "3.5.5"
  }
 },
 "nbformat": 4,
 "nbformat_minor": 2
}
